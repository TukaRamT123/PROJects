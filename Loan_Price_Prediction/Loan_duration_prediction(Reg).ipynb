{
 "cells": [
  {
   "cell_type": "markdown",
   "id": "2ec0d749",
   "metadata": {},
   "source": [
    "# Read Dataset"
   ]
  },
  {
   "cell_type": "code",
   "execution_count": 1,
   "id": "69f860f0",
   "metadata": {},
   "outputs": [],
   "source": [
    "from warnings import filterwarnings\n",
    "filterwarnings(\"ignore\")"
   ]
  },
  {
   "cell_type": "code",
   "execution_count": 2,
   "id": "054823af",
   "metadata": {},
   "outputs": [
    {
     "data": {
      "text/html": [
       "<div>\n",
       "<style scoped>\n",
       "    .dataframe tbody tr th:only-of-type {\n",
       "        vertical-align: middle;\n",
       "    }\n",
       "\n",
       "    .dataframe tbody tr th {\n",
       "        vertical-align: top;\n",
       "    }\n",
       "\n",
       "    .dataframe thead th {\n",
       "        text-align: right;\n",
       "    }\n",
       "</style>\n",
       "<table border=\"1\" class=\"dataframe\">\n",
       "  <thead>\n",
       "    <tr style=\"text-align: right;\">\n",
       "      <th></th>\n",
       "      <th>Loan_ID</th>\n",
       "      <th>Gender</th>\n",
       "      <th>Married</th>\n",
       "      <th>Dependents</th>\n",
       "      <th>Education</th>\n",
       "      <th>Self_Employed</th>\n",
       "      <th>ApplicantIncome</th>\n",
       "      <th>CoapplicantIncome</th>\n",
       "      <th>LoanAmount</th>\n",
       "      <th>Loan_Amount_Term</th>\n",
       "      <th>Credit_History</th>\n",
       "      <th>Property_Area</th>\n",
       "      <th>Loan_Status</th>\n",
       "    </tr>\n",
       "  </thead>\n",
       "  <tbody>\n",
       "    <tr>\n",
       "      <th>0</th>\n",
       "      <td>LP001002</td>\n",
       "      <td>Male</td>\n",
       "      <td>No</td>\n",
       "      <td>0</td>\n",
       "      <td>Graduate</td>\n",
       "      <td>No</td>\n",
       "      <td>5849.0</td>\n",
       "      <td>0.0</td>\n",
       "      <td>NaN</td>\n",
       "      <td>360.0</td>\n",
       "      <td>1.0</td>\n",
       "      <td>Urban</td>\n",
       "      <td>Y</td>\n",
       "    </tr>\n",
       "    <tr>\n",
       "      <th>1</th>\n",
       "      <td>LP001003</td>\n",
       "      <td>Male</td>\n",
       "      <td>Yes</td>\n",
       "      <td>1</td>\n",
       "      <td>Graduate</td>\n",
       "      <td>No</td>\n",
       "      <td>NaN</td>\n",
       "      <td>1508.0</td>\n",
       "      <td>128.0</td>\n",
       "      <td>360.0</td>\n",
       "      <td>1.0</td>\n",
       "      <td>Rural</td>\n",
       "      <td>N</td>\n",
       "    </tr>\n",
       "    <tr>\n",
       "      <th>2</th>\n",
       "      <td>LP001005</td>\n",
       "      <td>Male</td>\n",
       "      <td>Yes</td>\n",
       "      <td>0</td>\n",
       "      <td>Graduate</td>\n",
       "      <td>Yes</td>\n",
       "      <td>3000.0</td>\n",
       "      <td>0.0</td>\n",
       "      <td>66.0</td>\n",
       "      <td>360.0</td>\n",
       "      <td>1.0</td>\n",
       "      <td>Urban</td>\n",
       "      <td>Y</td>\n",
       "    </tr>\n",
       "    <tr>\n",
       "      <th>3</th>\n",
       "      <td>LP001006</td>\n",
       "      <td>Male</td>\n",
       "      <td>Yes</td>\n",
       "      <td>0</td>\n",
       "      <td>Not Graduate</td>\n",
       "      <td>No</td>\n",
       "      <td>2583.0</td>\n",
       "      <td>2358.0</td>\n",
       "      <td>120.0</td>\n",
       "      <td>360.0</td>\n",
       "      <td>1.0</td>\n",
       "      <td>Urban</td>\n",
       "      <td>Y</td>\n",
       "    </tr>\n",
       "    <tr>\n",
       "      <th>4</th>\n",
       "      <td>LP001008</td>\n",
       "      <td>Male</td>\n",
       "      <td>No</td>\n",
       "      <td>0</td>\n",
       "      <td>Graduate</td>\n",
       "      <td>No</td>\n",
       "      <td>6000.0</td>\n",
       "      <td>0.0</td>\n",
       "      <td>141.0</td>\n",
       "      <td>360.0</td>\n",
       "      <td>1.0</td>\n",
       "      <td>Urban</td>\n",
       "      <td>Y</td>\n",
       "    </tr>\n",
       "  </tbody>\n",
       "</table>\n",
       "</div>"
      ],
      "text/plain": [
       "    Loan_ID Gender Married Dependents     Education Self_Employed  \\\n",
       "0  LP001002   Male      No          0      Graduate            No   \n",
       "1  LP001003   Male     Yes          1      Graduate            No   \n",
       "2  LP001005   Male     Yes          0      Graduate           Yes   \n",
       "3  LP001006   Male     Yes          0  Not Graduate            No   \n",
       "4  LP001008   Male      No          0      Graduate            No   \n",
       "\n",
       "   ApplicantIncome  CoapplicantIncome  LoanAmount  Loan_Amount_Term  \\\n",
       "0           5849.0                0.0         NaN             360.0   \n",
       "1              NaN             1508.0       128.0             360.0   \n",
       "2           3000.0                0.0        66.0             360.0   \n",
       "3           2583.0             2358.0       120.0             360.0   \n",
       "4           6000.0                0.0       141.0             360.0   \n",
       "\n",
       "   Credit_History Property_Area Loan_Status  \n",
       "0             1.0         Urban           Y  \n",
       "1             1.0         Rural           N  \n",
       "2             1.0         Urban           Y  \n",
       "3             1.0         Urban           Y  \n",
       "4             1.0         Urban           Y  "
      ]
     },
     "execution_count": 2,
     "metadata": {},
     "output_type": "execute_result"
    }
   ],
   "source": [
    "import pandas as pd\n",
    "train_data = pd.read_csv(\"C:/Users/Administrator/Downloads/training_set (1).csv\")\n",
    "A = train_data\n",
    "A.head()"
   ]
  },
  {
   "cell_type": "code",
   "execution_count": 3,
   "id": "69522b94",
   "metadata": {},
   "outputs": [
    {
     "data": {
      "text/html": [
       "<div>\n",
       "<style scoped>\n",
       "    .dataframe tbody tr th:only-of-type {\n",
       "        vertical-align: middle;\n",
       "    }\n",
       "\n",
       "    .dataframe tbody tr th {\n",
       "        vertical-align: top;\n",
       "    }\n",
       "\n",
       "    .dataframe thead th {\n",
       "        text-align: right;\n",
       "    }\n",
       "</style>\n",
       "<table border=\"1\" class=\"dataframe\">\n",
       "  <thead>\n",
       "    <tr style=\"text-align: right;\">\n",
       "      <th></th>\n",
       "      <th>Loan_ID</th>\n",
       "      <th>Gender</th>\n",
       "      <th>Married</th>\n",
       "      <th>Dependents</th>\n",
       "      <th>Education</th>\n",
       "      <th>Self_Employed</th>\n",
       "      <th>ApplicantIncome</th>\n",
       "      <th>CoapplicantIncome</th>\n",
       "      <th>LoanAmount</th>\n",
       "      <th>Loan_Amount_Term</th>\n",
       "      <th>Credit_History</th>\n",
       "      <th>Property_Area</th>\n",
       "    </tr>\n",
       "  </thead>\n",
       "  <tbody>\n",
       "    <tr>\n",
       "      <th>0</th>\n",
       "      <td>LP001015</td>\n",
       "      <td>Male</td>\n",
       "      <td>Yes</td>\n",
       "      <td>0</td>\n",
       "      <td>Graduate</td>\n",
       "      <td>No</td>\n",
       "      <td>5720</td>\n",
       "      <td>0</td>\n",
       "      <td>110.0</td>\n",
       "      <td>360.0</td>\n",
       "      <td>1.0</td>\n",
       "      <td>Urban</td>\n",
       "    </tr>\n",
       "    <tr>\n",
       "      <th>1</th>\n",
       "      <td>LP001022</td>\n",
       "      <td>Male</td>\n",
       "      <td>Yes</td>\n",
       "      <td>1</td>\n",
       "      <td>Graduate</td>\n",
       "      <td>No</td>\n",
       "      <td>3076</td>\n",
       "      <td>1500</td>\n",
       "      <td>126.0</td>\n",
       "      <td>360.0</td>\n",
       "      <td>1.0</td>\n",
       "      <td>Urban</td>\n",
       "    </tr>\n",
       "    <tr>\n",
       "      <th>2</th>\n",
       "      <td>LP001031</td>\n",
       "      <td>Male</td>\n",
       "      <td>Yes</td>\n",
       "      <td>2</td>\n",
       "      <td>Graduate</td>\n",
       "      <td>No</td>\n",
       "      <td>5000</td>\n",
       "      <td>1800</td>\n",
       "      <td>208.0</td>\n",
       "      <td>360.0</td>\n",
       "      <td>1.0</td>\n",
       "      <td>Urban</td>\n",
       "    </tr>\n",
       "    <tr>\n",
       "      <th>3</th>\n",
       "      <td>LP001035</td>\n",
       "      <td>Male</td>\n",
       "      <td>Yes</td>\n",
       "      <td>2</td>\n",
       "      <td>Graduate</td>\n",
       "      <td>No</td>\n",
       "      <td>2340</td>\n",
       "      <td>2546</td>\n",
       "      <td>100.0</td>\n",
       "      <td>360.0</td>\n",
       "      <td>NaN</td>\n",
       "      <td>Urban</td>\n",
       "    </tr>\n",
       "    <tr>\n",
       "      <th>4</th>\n",
       "      <td>LP001051</td>\n",
       "      <td>Male</td>\n",
       "      <td>No</td>\n",
       "      <td>0</td>\n",
       "      <td>Not Graduate</td>\n",
       "      <td>No</td>\n",
       "      <td>3276</td>\n",
       "      <td>0</td>\n",
       "      <td>78.0</td>\n",
       "      <td>360.0</td>\n",
       "      <td>1.0</td>\n",
       "      <td>Urban</td>\n",
       "    </tr>\n",
       "  </tbody>\n",
       "</table>\n",
       "</div>"
      ],
      "text/plain": [
       "    Loan_ID Gender Married Dependents     Education Self_Employed  \\\n",
       "0  LP001015   Male     Yes          0      Graduate            No   \n",
       "1  LP001022   Male     Yes          1      Graduate            No   \n",
       "2  LP001031   Male     Yes          2      Graduate            No   \n",
       "3  LP001035   Male     Yes          2      Graduate            No   \n",
       "4  LP001051   Male      No          0  Not Graduate            No   \n",
       "\n",
       "   ApplicantIncome  CoapplicantIncome  LoanAmount  Loan_Amount_Term  \\\n",
       "0             5720                  0       110.0             360.0   \n",
       "1             3076               1500       126.0             360.0   \n",
       "2             5000               1800       208.0             360.0   \n",
       "3             2340               2546       100.0             360.0   \n",
       "4             3276                  0        78.0             360.0   \n",
       "\n",
       "   Credit_History Property_Area  \n",
       "0             1.0         Urban  \n",
       "1             1.0         Urban  \n",
       "2             1.0         Urban  \n",
       "3             NaN         Urban  \n",
       "4             1.0         Urban  "
      ]
     },
     "execution_count": 3,
     "metadata": {},
     "output_type": "execute_result"
    }
   ],
   "source": [
    "import pandas as pd\n",
    "test_data = pd.read_csv(\"C:/Users/Administrator/Downloads/testing_set (1).csv\")\n",
    "B = test_data\n",
    "B.head()"
   ]
  },
  {
   "cell_type": "code",
   "execution_count": 4,
   "id": "3395b480",
   "metadata": {},
   "outputs": [
    {
     "name": "stdout",
     "output_type": "stream",
     "text": [
      "<class 'pandas.core.frame.DataFrame'>\n",
      "RangeIndex: 614 entries, 0 to 613\n",
      "Data columns (total 13 columns):\n",
      " #   Column             Non-Null Count  Dtype  \n",
      "---  ------             --------------  -----  \n",
      " 0   Loan_ID            614 non-null    object \n",
      " 1   Gender             599 non-null    object \n",
      " 2   Married            611 non-null    object \n",
      " 3   Dependents         599 non-null    object \n",
      " 4   Education          613 non-null    object \n",
      " 5   Self_Employed      582 non-null    object \n",
      " 6   ApplicantIncome    612 non-null    float64\n",
      " 7   CoapplicantIncome  613 non-null    float64\n",
      " 8   LoanAmount         592 non-null    float64\n",
      " 9   Loan_Amount_Term   600 non-null    float64\n",
      " 10  Credit_History     564 non-null    float64\n",
      " 11  Property_Area      614 non-null    object \n",
      " 12  Loan_Status        614 non-null    object \n",
      "dtypes: float64(5), object(8)\n",
      "memory usage: 62.5+ KB\n"
     ]
    }
   ],
   "source": [
    "A.info()"
   ]
  },
  {
   "cell_type": "code",
   "execution_count": 5,
   "id": "bf3d718a",
   "metadata": {},
   "outputs": [
    {
     "name": "stdout",
     "output_type": "stream",
     "text": [
      "<class 'pandas.core.frame.DataFrame'>\n",
      "RangeIndex: 367 entries, 0 to 366\n",
      "Data columns (total 12 columns):\n",
      " #   Column             Non-Null Count  Dtype  \n",
      "---  ------             --------------  -----  \n",
      " 0   Loan_ID            367 non-null    object \n",
      " 1   Gender             356 non-null    object \n",
      " 2   Married            367 non-null    object \n",
      " 3   Dependents         357 non-null    object \n",
      " 4   Education          367 non-null    object \n",
      " 5   Self_Employed      344 non-null    object \n",
      " 6   ApplicantIncome    367 non-null    int64  \n",
      " 7   CoapplicantIncome  367 non-null    int64  \n",
      " 8   LoanAmount         362 non-null    float64\n",
      " 9   Loan_Amount_Term   361 non-null    float64\n",
      " 10  Credit_History     338 non-null    float64\n",
      " 11  Property_Area      367 non-null    object \n",
      "dtypes: float64(3), int64(2), object(7)\n",
      "memory usage: 34.5+ KB\n"
     ]
    }
   ],
   "source": [
    "B.info()"
   ]
  },
  {
   "cell_type": "markdown",
   "id": "a398cd58",
   "metadata": {},
   "source": [
    "# Treat the Missing Data"
   ]
  },
  {
   "cell_type": "code",
   "execution_count": 6,
   "id": "6a0b4cbe",
   "metadata": {},
   "outputs": [
    {
     "data": {
      "text/plain": [
       "Loan_ID               0\n",
       "Gender               15\n",
       "Married               3\n",
       "Dependents           15\n",
       "Education             1\n",
       "Self_Employed        32\n",
       "ApplicantIncome       2\n",
       "CoapplicantIncome     1\n",
       "LoanAmount           22\n",
       "Loan_Amount_Term     14\n",
       "Credit_History       50\n",
       "Property_Area         0\n",
       "Loan_Status           0\n",
       "dtype: int64"
      ]
     },
     "execution_count": 6,
     "metadata": {},
     "output_type": "execute_result"
    }
   ],
   "source": [
    "A.isna().sum()"
   ]
  },
  {
   "cell_type": "code",
   "execution_count": 7,
   "id": "ca520a9f",
   "metadata": {},
   "outputs": [
    {
     "data": {
      "text/plain": [
       "Loan_ID               0\n",
       "Gender               11\n",
       "Married               0\n",
       "Dependents           10\n",
       "Education             0\n",
       "Self_Employed        23\n",
       "ApplicantIncome       0\n",
       "CoapplicantIncome     0\n",
       "LoanAmount            5\n",
       "Loan_Amount_Term      6\n",
       "Credit_History       29\n",
       "Property_Area         0\n",
       "dtype: int64"
      ]
     },
     "execution_count": 7,
     "metadata": {},
     "output_type": "execute_result"
    }
   ],
   "source": [
    "B.isna().sum()"
   ]
  },
  {
   "cell_type": "code",
   "execution_count": 8,
   "id": "f0942d13",
   "metadata": {},
   "outputs": [],
   "source": [
    "for i in A.columns:\n",
    "    if(A[i].dtypes == \"object\"):\n",
    "        x = A[i].mode()[0]\n",
    "        A[i] = A[i].fillna(x)\n",
    "    else:\n",
    "        x = A[i].mean()\n",
    "        A[i] = A[i].fillna(x)\n",
    "        \n",
    "for i in B.columns:\n",
    "    if(B[i].dtypes == \"object\"):\n",
    "        x = B[i].mode()[0]\n",
    "        B[i] = B[i].fillna(x)\n",
    "    else:\n",
    "        x = B[i].mean()\n",
    "        B[i] = B[i].fillna(x)  "
   ]
  },
  {
   "cell_type": "code",
   "execution_count": 9,
   "id": "7cff135c",
   "metadata": {},
   "outputs": [],
   "source": [
    "A['Loan_ID'].fillna(A['Loan_ID'].mode()[0],inplace=True)\n",
    "A['Gender'].fillna(A['Gender'].mode()[0],inplace=True)\n",
    "A['Married'].fillna(A['Married'].mode()[0],inplace=True)\n",
    "A['Dependents'].fillna(A['Dependents'].mode()[0],inplace=True)\n",
    "A['Education'].fillna(A['Education'].mode()[0],inplace=True)\n",
    "A['Self_Employed'].fillna(A['Self_Employed'].mode()[0],inplace=True)\n",
    "A['Property_Area'].fillna(A['Property_Area'].mode()[0],inplace=True)\n",
    "A['Loan_Status'].fillna(A['Loan_Status'].mode()[0],inplace=True)\n",
    "\n",
    "B['Loan_ID'].fillna(A['Loan_ID'].mode()[0],inplace=True)\n",
    "B['Gender'].fillna(A['Gender'].mode()[0],inplace=True)\n",
    "B['Married'].fillna(A['Married'].mode()[0],inplace=True)\n",
    "B['Dependents'].fillna(A['Dependents'].mode()[0],inplace=True)\n",
    "A['Education'].fillna(A['Education'].mode()[0],inplace=True)\n",
    "B['Self_Employed'].fillna(A['Self_Employed'].mode()[0],inplace=True)\n",
    "B['Property_Area'].fillna(A['Property_Area'].mode()[0],inplace=True)\n"
   ]
  },
  {
   "cell_type": "code",
   "execution_count": 10,
   "id": "3c6b690e",
   "metadata": {},
   "outputs": [
    {
     "data": {
      "text/plain": [
       "Loan_ID              0\n",
       "Gender               0\n",
       "Married              0\n",
       "Dependents           0\n",
       "Education            0\n",
       "Self_Employed        0\n",
       "ApplicantIncome      0\n",
       "CoapplicantIncome    0\n",
       "LoanAmount           0\n",
       "Loan_Amount_Term     0\n",
       "Credit_History       0\n",
       "Property_Area        0\n",
       "Loan_Status          0\n",
       "dtype: int64"
      ]
     },
     "execution_count": 10,
     "metadata": {},
     "output_type": "execute_result"
    }
   ],
   "source": [
    "A.isna().sum()"
   ]
  },
  {
   "cell_type": "code",
   "execution_count": 11,
   "id": "14b45421",
   "metadata": {},
   "outputs": [
    {
     "data": {
      "text/plain": [
       "Loan_ID              0\n",
       "Gender               0\n",
       "Married              0\n",
       "Dependents           0\n",
       "Education            0\n",
       "Self_Employed        0\n",
       "ApplicantIncome      0\n",
       "CoapplicantIncome    0\n",
       "LoanAmount           0\n",
       "Loan_Amount_Term     0\n",
       "Credit_History       0\n",
       "Property_Area        0\n",
       "dtype: int64"
      ]
     },
     "execution_count": 11,
     "metadata": {},
     "output_type": "execute_result"
    }
   ],
   "source": [
    "B.isna().sum()"
   ]
  },
  {
   "cell_type": "markdown",
   "id": "9c3235d1",
   "metadata": {},
   "source": [
    "# Independent variable X and Dependent variable Y variable"
   ]
  },
  {
   "cell_type": "code",
   "execution_count": 12,
   "id": "116f5847",
   "metadata": {},
   "outputs": [],
   "source": [
    "X = A.drop(labels=[\"Loan_ID\",\"Loan_Status\",\"Loan_Amount_Term\"],axis=1)\n",
    "Y = A[[\"Loan_Amount_Term\"]]"
   ]
  },
  {
   "cell_type": "code",
   "execution_count": 13,
   "id": "b18aa614",
   "metadata": {},
   "outputs": [
    {
     "data": {
      "text/html": [
       "<div>\n",
       "<style scoped>\n",
       "    .dataframe tbody tr th:only-of-type {\n",
       "        vertical-align: middle;\n",
       "    }\n",
       "\n",
       "    .dataframe tbody tr th {\n",
       "        vertical-align: top;\n",
       "    }\n",
       "\n",
       "    .dataframe thead th {\n",
       "        text-align: right;\n",
       "    }\n",
       "</style>\n",
       "<table border=\"1\" class=\"dataframe\">\n",
       "  <thead>\n",
       "    <tr style=\"text-align: right;\">\n",
       "      <th></th>\n",
       "      <th>Gender</th>\n",
       "      <th>Married</th>\n",
       "      <th>Dependents</th>\n",
       "      <th>Education</th>\n",
       "      <th>Self_Employed</th>\n",
       "      <th>ApplicantIncome</th>\n",
       "      <th>CoapplicantIncome</th>\n",
       "      <th>LoanAmount</th>\n",
       "      <th>Credit_History</th>\n",
       "      <th>Property_Area</th>\n",
       "    </tr>\n",
       "  </thead>\n",
       "  <tbody>\n",
       "    <tr>\n",
       "      <th>0</th>\n",
       "      <td>Male</td>\n",
       "      <td>No</td>\n",
       "      <td>0</td>\n",
       "      <td>Graduate</td>\n",
       "      <td>No</td>\n",
       "      <td>5849.00000</td>\n",
       "      <td>0.0</td>\n",
       "      <td>146.412162</td>\n",
       "      <td>1.0</td>\n",
       "      <td>Urban</td>\n",
       "    </tr>\n",
       "    <tr>\n",
       "      <th>1</th>\n",
       "      <td>Male</td>\n",
       "      <td>Yes</td>\n",
       "      <td>1</td>\n",
       "      <td>Graduate</td>\n",
       "      <td>No</td>\n",
       "      <td>5405.54085</td>\n",
       "      <td>1508.0</td>\n",
       "      <td>128.000000</td>\n",
       "      <td>1.0</td>\n",
       "      <td>Rural</td>\n",
       "    </tr>\n",
       "    <tr>\n",
       "      <th>2</th>\n",
       "      <td>Male</td>\n",
       "      <td>Yes</td>\n",
       "      <td>0</td>\n",
       "      <td>Graduate</td>\n",
       "      <td>Yes</td>\n",
       "      <td>3000.00000</td>\n",
       "      <td>0.0</td>\n",
       "      <td>66.000000</td>\n",
       "      <td>1.0</td>\n",
       "      <td>Urban</td>\n",
       "    </tr>\n",
       "    <tr>\n",
       "      <th>3</th>\n",
       "      <td>Male</td>\n",
       "      <td>Yes</td>\n",
       "      <td>0</td>\n",
       "      <td>Not Graduate</td>\n",
       "      <td>No</td>\n",
       "      <td>2583.00000</td>\n",
       "      <td>2358.0</td>\n",
       "      <td>120.000000</td>\n",
       "      <td>1.0</td>\n",
       "      <td>Urban</td>\n",
       "    </tr>\n",
       "    <tr>\n",
       "      <th>4</th>\n",
       "      <td>Male</td>\n",
       "      <td>No</td>\n",
       "      <td>0</td>\n",
       "      <td>Graduate</td>\n",
       "      <td>No</td>\n",
       "      <td>6000.00000</td>\n",
       "      <td>0.0</td>\n",
       "      <td>141.000000</td>\n",
       "      <td>1.0</td>\n",
       "      <td>Urban</td>\n",
       "    </tr>\n",
       "  </tbody>\n",
       "</table>\n",
       "</div>"
      ],
      "text/plain": [
       "  Gender Married Dependents     Education Self_Employed  ApplicantIncome  \\\n",
       "0   Male      No          0      Graduate            No       5849.00000   \n",
       "1   Male     Yes          1      Graduate            No       5405.54085   \n",
       "2   Male     Yes          0      Graduate           Yes       3000.00000   \n",
       "3   Male     Yes          0  Not Graduate            No       2583.00000   \n",
       "4   Male      No          0      Graduate            No       6000.00000   \n",
       "\n",
       "   CoapplicantIncome  LoanAmount  Credit_History Property_Area  \n",
       "0                0.0  146.412162             1.0         Urban  \n",
       "1             1508.0  128.000000             1.0         Rural  \n",
       "2                0.0   66.000000             1.0         Urban  \n",
       "3             2358.0  120.000000             1.0         Urban  \n",
       "4                0.0  141.000000             1.0         Urban  "
      ]
     },
     "execution_count": 13,
     "metadata": {},
     "output_type": "execute_result"
    }
   ],
   "source": [
    "X.head()"
   ]
  },
  {
   "cell_type": "code",
   "execution_count": 14,
   "id": "57a212f2",
   "metadata": {},
   "outputs": [
    {
     "data": {
      "text/html": [
       "<div>\n",
       "<style scoped>\n",
       "    .dataframe tbody tr th:only-of-type {\n",
       "        vertical-align: middle;\n",
       "    }\n",
       "\n",
       "    .dataframe tbody tr th {\n",
       "        vertical-align: top;\n",
       "    }\n",
       "\n",
       "    .dataframe thead th {\n",
       "        text-align: right;\n",
       "    }\n",
       "</style>\n",
       "<table border=\"1\" class=\"dataframe\">\n",
       "  <thead>\n",
       "    <tr style=\"text-align: right;\">\n",
       "      <th></th>\n",
       "      <th>Loan_Amount_Term</th>\n",
       "    </tr>\n",
       "  </thead>\n",
       "  <tbody>\n",
       "    <tr>\n",
       "      <th>0</th>\n",
       "      <td>360.0</td>\n",
       "    </tr>\n",
       "    <tr>\n",
       "      <th>1</th>\n",
       "      <td>360.0</td>\n",
       "    </tr>\n",
       "    <tr>\n",
       "      <th>2</th>\n",
       "      <td>360.0</td>\n",
       "    </tr>\n",
       "    <tr>\n",
       "      <th>3</th>\n",
       "      <td>360.0</td>\n",
       "    </tr>\n",
       "    <tr>\n",
       "      <th>4</th>\n",
       "      <td>360.0</td>\n",
       "    </tr>\n",
       "  </tbody>\n",
       "</table>\n",
       "</div>"
      ],
      "text/plain": [
       "   Loan_Amount_Term\n",
       "0             360.0\n",
       "1             360.0\n",
       "2             360.0\n",
       "3             360.0\n",
       "4             360.0"
      ]
     },
     "execution_count": 14,
     "metadata": {},
     "output_type": "execute_result"
    }
   ],
   "source": [
    "Y.head()"
   ]
  },
  {
   "cell_type": "markdown",
   "id": "3791c10d",
   "metadata": {},
   "source": [
    "# Separate cat con column"
   ]
  },
  {
   "cell_type": "code",
   "execution_count": 15,
   "id": "367225ac",
   "metadata": {},
   "outputs": [],
   "source": [
    "cat = []\n",
    "con = []\n",
    "for i in X.columns:\n",
    "    if(X[i].dtypes == \"object\"):\n",
    "        cat.append(i)\n",
    "    else:\n",
    "        con.append(i)"
   ]
  },
  {
   "cell_type": "code",
   "execution_count": 16,
   "id": "4ddfad9b",
   "metadata": {},
   "outputs": [
    {
     "data": {
      "text/plain": [
       "['Gender',\n",
       " 'Married',\n",
       " 'Dependents',\n",
       " 'Education',\n",
       " 'Self_Employed',\n",
       " 'Property_Area']"
      ]
     },
     "execution_count": 16,
     "metadata": {},
     "output_type": "execute_result"
    }
   ],
   "source": [
    "cat"
   ]
  },
  {
   "cell_type": "code",
   "execution_count": 17,
   "id": "deed9d7e",
   "metadata": {},
   "outputs": [
    {
     "data": {
      "text/plain": [
       "['ApplicantIncome', 'CoapplicantIncome', 'LoanAmount', 'Credit_History']"
      ]
     },
     "execution_count": 17,
     "metadata": {},
     "output_type": "execute_result"
    }
   ],
   "source": [
    "con"
   ]
  },
  {
   "cell_type": "markdown",
   "id": "328f51a7",
   "metadata": {},
   "source": [
    "# Preprocessing cat and con column in X variable"
   ]
  },
  {
   "cell_type": "code",
   "execution_count": 18,
   "id": "2beea500",
   "metadata": {},
   "outputs": [],
   "source": [
    "def preprocessing(df):\n",
    "    import pandas as pd\n",
    "    cat = []\n",
    "    con = []\n",
    "    for i in df.columns:\n",
    "        if(df[i].dtypes == \"object\"):\n",
    "            cat.append(i)\n",
    "        else:\n",
    "            con.append(i)\n",
    "    X1 = pd.get_dummies(df[cat])\n",
    "    from sklearn.preprocessing import StandardScaler\n",
    "    ss = StandardScaler()\n",
    "    X2 = pd.DataFrame(ss.fit_transform(df[con]),columns=con)\n",
    "    X3 = X2.join(X1)\n",
    "    return X3"
   ]
  },
  {
   "cell_type": "code",
   "execution_count": 19,
   "id": "0d5e7a36",
   "metadata": {},
   "outputs": [],
   "source": [
    "Xnew = preprocessing(X)"
   ]
  },
  {
   "cell_type": "code",
   "execution_count": 20,
   "id": "4df93dde",
   "metadata": {},
   "outputs": [
    {
     "data": {
      "text/html": [
       "<div>\n",
       "<style scoped>\n",
       "    .dataframe tbody tr th:only-of-type {\n",
       "        vertical-align: middle;\n",
       "    }\n",
       "\n",
       "    .dataframe tbody tr th {\n",
       "        vertical-align: top;\n",
       "    }\n",
       "\n",
       "    .dataframe thead th {\n",
       "        text-align: right;\n",
       "    }\n",
       "</style>\n",
       "<table border=\"1\" class=\"dataframe\">\n",
       "  <thead>\n",
       "    <tr style=\"text-align: right;\">\n",
       "      <th></th>\n",
       "      <th>ApplicantIncome</th>\n",
       "      <th>CoapplicantIncome</th>\n",
       "      <th>LoanAmount</th>\n",
       "      <th>Credit_History</th>\n",
       "      <th>Gender_Female</th>\n",
       "      <th>Gender_Male</th>\n",
       "      <th>Married_No</th>\n",
       "      <th>Married_Yes</th>\n",
       "      <th>Dependents_0</th>\n",
       "      <th>Dependents_1</th>\n",
       "      <th>Dependents_2</th>\n",
       "      <th>Dependents_3+</th>\n",
       "      <th>Education_Graduate</th>\n",
       "      <th>Education_Not Graduate</th>\n",
       "      <th>Self_Employed_No</th>\n",
       "      <th>Self_Employed_Yes</th>\n",
       "      <th>Property_Area_Rural</th>\n",
       "      <th>Property_Area_Semiurban</th>\n",
       "      <th>Property_Area_Urban</th>\n",
       "    </tr>\n",
       "  </thead>\n",
       "  <tbody>\n",
       "    <tr>\n",
       "      <th>0</th>\n",
       "      <td>0.072651</td>\n",
       "      <td>-0.554368</td>\n",
       "      <td>0.000000</td>\n",
       "      <td>0.45164</td>\n",
       "      <td>0</td>\n",
       "      <td>1</td>\n",
       "      <td>1</td>\n",
       "      <td>0</td>\n",
       "      <td>1</td>\n",
       "      <td>0</td>\n",
       "      <td>0</td>\n",
       "      <td>0</td>\n",
       "      <td>1</td>\n",
       "      <td>0</td>\n",
       "      <td>1</td>\n",
       "      <td>0</td>\n",
       "      <td>0</td>\n",
       "      <td>0</td>\n",
       "      <td>1</td>\n",
       "    </tr>\n",
       "    <tr>\n",
       "      <th>1</th>\n",
       "      <td>0.000000</td>\n",
       "      <td>-0.038610</td>\n",
       "      <td>-0.219273</td>\n",
       "      <td>0.45164</td>\n",
       "      <td>0</td>\n",
       "      <td>1</td>\n",
       "      <td>0</td>\n",
       "      <td>1</td>\n",
       "      <td>0</td>\n",
       "      <td>1</td>\n",
       "      <td>0</td>\n",
       "      <td>0</td>\n",
       "      <td>1</td>\n",
       "      <td>0</td>\n",
       "      <td>1</td>\n",
       "      <td>0</td>\n",
       "      <td>1</td>\n",
       "      <td>0</td>\n",
       "      <td>0</td>\n",
       "    </tr>\n",
       "    <tr>\n",
       "      <th>2</th>\n",
       "      <td>-0.394096</td>\n",
       "      <td>-0.554368</td>\n",
       "      <td>-0.957641</td>\n",
       "      <td>0.45164</td>\n",
       "      <td>0</td>\n",
       "      <td>1</td>\n",
       "      <td>0</td>\n",
       "      <td>1</td>\n",
       "      <td>1</td>\n",
       "      <td>0</td>\n",
       "      <td>0</td>\n",
       "      <td>0</td>\n",
       "      <td>1</td>\n",
       "      <td>0</td>\n",
       "      <td>0</td>\n",
       "      <td>1</td>\n",
       "      <td>0</td>\n",
       "      <td>0</td>\n",
       "      <td>1</td>\n",
       "    </tr>\n",
       "    <tr>\n",
       "      <th>3</th>\n",
       "      <td>-0.462412</td>\n",
       "      <td>0.252103</td>\n",
       "      <td>-0.314547</td>\n",
       "      <td>0.45164</td>\n",
       "      <td>0</td>\n",
       "      <td>1</td>\n",
       "      <td>0</td>\n",
       "      <td>1</td>\n",
       "      <td>1</td>\n",
       "      <td>0</td>\n",
       "      <td>0</td>\n",
       "      <td>0</td>\n",
       "      <td>0</td>\n",
       "      <td>1</td>\n",
       "      <td>1</td>\n",
       "      <td>0</td>\n",
       "      <td>0</td>\n",
       "      <td>0</td>\n",
       "      <td>1</td>\n",
       "    </tr>\n",
       "    <tr>\n",
       "      <th>4</th>\n",
       "      <td>0.097389</td>\n",
       "      <td>-0.554368</td>\n",
       "      <td>-0.064454</td>\n",
       "      <td>0.45164</td>\n",
       "      <td>0</td>\n",
       "      <td>1</td>\n",
       "      <td>1</td>\n",
       "      <td>0</td>\n",
       "      <td>1</td>\n",
       "      <td>0</td>\n",
       "      <td>0</td>\n",
       "      <td>0</td>\n",
       "      <td>1</td>\n",
       "      <td>0</td>\n",
       "      <td>1</td>\n",
       "      <td>0</td>\n",
       "      <td>0</td>\n",
       "      <td>0</td>\n",
       "      <td>1</td>\n",
       "    </tr>\n",
       "  </tbody>\n",
       "</table>\n",
       "</div>"
      ],
      "text/plain": [
       "   ApplicantIncome  CoapplicantIncome  LoanAmount  Credit_History  \\\n",
       "0         0.072651          -0.554368    0.000000         0.45164   \n",
       "1         0.000000          -0.038610   -0.219273         0.45164   \n",
       "2        -0.394096          -0.554368   -0.957641         0.45164   \n",
       "3        -0.462412           0.252103   -0.314547         0.45164   \n",
       "4         0.097389          -0.554368   -0.064454         0.45164   \n",
       "\n",
       "   Gender_Female  Gender_Male  Married_No  Married_Yes  Dependents_0  \\\n",
       "0              0            1           1            0             1   \n",
       "1              0            1           0            1             0   \n",
       "2              0            1           0            1             1   \n",
       "3              0            1           0            1             1   \n",
       "4              0            1           1            0             1   \n",
       "\n",
       "   Dependents_1  Dependents_2  Dependents_3+  Education_Graduate  \\\n",
       "0             0             0              0                   1   \n",
       "1             1             0              0                   1   \n",
       "2             0             0              0                   1   \n",
       "3             0             0              0                   0   \n",
       "4             0             0              0                   1   \n",
       "\n",
       "   Education_Not Graduate  Self_Employed_No  Self_Employed_Yes  \\\n",
       "0                       0                 1                  0   \n",
       "1                       0                 1                  0   \n",
       "2                       0                 0                  1   \n",
       "3                       1                 1                  0   \n",
       "4                       0                 1                  0   \n",
       "\n",
       "   Property_Area_Rural  Property_Area_Semiurban  Property_Area_Urban  \n",
       "0                    0                        0                    1  \n",
       "1                    1                        0                    0  \n",
       "2                    0                        0                    1  \n",
       "3                    0                        0                    1  \n",
       "4                    0                        0                    1  "
      ]
     },
     "execution_count": 20,
     "metadata": {},
     "output_type": "execute_result"
    }
   ],
   "source": [
    "Xnew.head()"
   ]
  },
  {
   "cell_type": "markdown",
   "id": "1c9cf5af",
   "metadata": {},
   "source": [
    "# Train Test Split"
   ]
  },
  {
   "cell_type": "code",
   "execution_count": 21,
   "id": "4628b689",
   "metadata": {},
   "outputs": [],
   "source": [
    "from sklearn.model_selection import train_test_split\n",
    "xtrain,xtest,ytrain,ytest = train_test_split(Xnew,Y,test_size=0.2,random_state=21)"
   ]
  },
  {
   "cell_type": "code",
   "execution_count": 22,
   "id": "fd775fad",
   "metadata": {},
   "outputs": [
    {
     "data": {
      "text/plain": [
       "(491, 19)"
      ]
     },
     "execution_count": 22,
     "metadata": {},
     "output_type": "execute_result"
    }
   ],
   "source": [
    "xtrain.shape"
   ]
  },
  {
   "cell_type": "code",
   "execution_count": 23,
   "id": "cbece135",
   "metadata": {},
   "outputs": [
    {
     "data": {
      "text/plain": [
       "(123, 19)"
      ]
     },
     "execution_count": 23,
     "metadata": {},
     "output_type": "execute_result"
    }
   ],
   "source": [
    "xtest.shape"
   ]
  },
  {
   "cell_type": "markdown",
   "id": "843a3e25",
   "metadata": {},
   "source": [
    "# Start Decision Tree model"
   ]
  },
  {
   "cell_type": "code",
   "execution_count": 24,
   "id": "c9afd708",
   "metadata": {},
   "outputs": [
    {
     "data": {
      "text/html": [
       "<style>#sk-container-id-1 {color: black;}#sk-container-id-1 pre{padding: 0;}#sk-container-id-1 div.sk-toggleable {background-color: white;}#sk-container-id-1 label.sk-toggleable__label {cursor: pointer;display: block;width: 100%;margin-bottom: 0;padding: 0.3em;box-sizing: border-box;text-align: center;}#sk-container-id-1 label.sk-toggleable__label-arrow:before {content: \"▸\";float: left;margin-right: 0.25em;color: #696969;}#sk-container-id-1 label.sk-toggleable__label-arrow:hover:before {color: black;}#sk-container-id-1 div.sk-estimator:hover label.sk-toggleable__label-arrow:before {color: black;}#sk-container-id-1 div.sk-toggleable__content {max-height: 0;max-width: 0;overflow: hidden;text-align: left;background-color: #f0f8ff;}#sk-container-id-1 div.sk-toggleable__content pre {margin: 0.2em;color: black;border-radius: 0.25em;background-color: #f0f8ff;}#sk-container-id-1 input.sk-toggleable__control:checked~div.sk-toggleable__content {max-height: 200px;max-width: 100%;overflow: auto;}#sk-container-id-1 input.sk-toggleable__control:checked~label.sk-toggleable__label-arrow:before {content: \"▾\";}#sk-container-id-1 div.sk-estimator input.sk-toggleable__control:checked~label.sk-toggleable__label {background-color: #d4ebff;}#sk-container-id-1 div.sk-label input.sk-toggleable__control:checked~label.sk-toggleable__label {background-color: #d4ebff;}#sk-container-id-1 input.sk-hidden--visually {border: 0;clip: rect(1px 1px 1px 1px);clip: rect(1px, 1px, 1px, 1px);height: 1px;margin: -1px;overflow: hidden;padding: 0;position: absolute;width: 1px;}#sk-container-id-1 div.sk-estimator {font-family: monospace;background-color: #f0f8ff;border: 1px dotted black;border-radius: 0.25em;box-sizing: border-box;margin-bottom: 0.5em;}#sk-container-id-1 div.sk-estimator:hover {background-color: #d4ebff;}#sk-container-id-1 div.sk-parallel-item::after {content: \"\";width: 100%;border-bottom: 1px solid gray;flex-grow: 1;}#sk-container-id-1 div.sk-label:hover label.sk-toggleable__label {background-color: #d4ebff;}#sk-container-id-1 div.sk-serial::before {content: \"\";position: absolute;border-left: 1px solid gray;box-sizing: border-box;top: 0;bottom: 0;left: 50%;z-index: 0;}#sk-container-id-1 div.sk-serial {display: flex;flex-direction: column;align-items: center;background-color: white;padding-right: 0.2em;padding-left: 0.2em;position: relative;}#sk-container-id-1 div.sk-item {position: relative;z-index: 1;}#sk-container-id-1 div.sk-parallel {display: flex;align-items: stretch;justify-content: center;background-color: white;position: relative;}#sk-container-id-1 div.sk-item::before, #sk-container-id-1 div.sk-parallel-item::before {content: \"\";position: absolute;border-left: 1px solid gray;box-sizing: border-box;top: 0;bottom: 0;left: 50%;z-index: -1;}#sk-container-id-1 div.sk-parallel-item {display: flex;flex-direction: column;z-index: 1;position: relative;background-color: white;}#sk-container-id-1 div.sk-parallel-item:first-child::after {align-self: flex-end;width: 50%;}#sk-container-id-1 div.sk-parallel-item:last-child::after {align-self: flex-start;width: 50%;}#sk-container-id-1 div.sk-parallel-item:only-child::after {width: 0;}#sk-container-id-1 div.sk-dashed-wrapped {border: 1px dashed gray;margin: 0 0.4em 0.5em 0.4em;box-sizing: border-box;padding-bottom: 0.4em;background-color: white;}#sk-container-id-1 div.sk-label label {font-family: monospace;font-weight: bold;display: inline-block;line-height: 1.2em;}#sk-container-id-1 div.sk-label-container {text-align: center;}#sk-container-id-1 div.sk-container {/* jupyter's `normalize.less` sets `[hidden] { display: none; }` but bootstrap.min.css set `[hidden] { display: none !important; }` so we also need the `!important` here to be able to override the default hidden behavior on the sphinx rendered scikit-learn.org. See: https://github.com/scikit-learn/scikit-learn/issues/21755 */display: inline-block !important;position: relative;}#sk-container-id-1 div.sk-text-repr-fallback {display: none;}</style><div id=\"sk-container-id-1\" class=\"sk-top-container\"><div class=\"sk-text-repr-fallback\"><pre>DecisionTreeRegressor(max_depth=2, random_state=21)</pre><b>In a Jupyter environment, please rerun this cell to show the HTML representation or trust the notebook. <br />On GitHub, the HTML representation is unable to render, please try loading this page with nbviewer.org.</b></div><div class=\"sk-container\" hidden><div class=\"sk-item\"><div class=\"sk-estimator sk-toggleable\"><input class=\"sk-toggleable__control sk-hidden--visually\" id=\"sk-estimator-id-1\" type=\"checkbox\" checked><label for=\"sk-estimator-id-1\" class=\"sk-toggleable__label sk-toggleable__label-arrow\">DecisionTreeRegressor</label><div class=\"sk-toggleable__content\"><pre>DecisionTreeRegressor(max_depth=2, random_state=21)</pre></div></div></div></div></div>"
      ],
      "text/plain": [
       "DecisionTreeRegressor(max_depth=2, random_state=21)"
      ]
     },
     "execution_count": 24,
     "metadata": {},
     "output_type": "execute_result"
    }
   ],
   "source": [
    "from sklearn.tree import DecisionTreeRegressor\n",
    "dtr = DecisionTreeRegressor(max_depth=2,random_state=21)\n",
    "dtr.fit(xtrain,ytrain)"
   ]
  },
  {
   "cell_type": "markdown",
   "id": "53d5cb1d",
   "metadata": {},
   "source": [
    "# predict model for training and testing"
   ]
  },
  {
   "cell_type": "code",
   "execution_count": 25,
   "id": "f45d300f",
   "metadata": {},
   "outputs": [],
   "source": [
    "tr_pred = dtr.predict(xtrain)\n",
    "ts_pred = dtr.predict(xtest)"
   ]
  },
  {
   "cell_type": "code",
   "execution_count": 26,
   "id": "019a2b41",
   "metadata": {
    "scrolled": false
   },
   "outputs": [
    {
     "data": {
      "text/plain": [
       "array([346.27930175, 346.27930175, 346.27930175, 346.27930175,\n",
       "       346.27930175, 346.27930175, 346.27930175, 346.27930175,\n",
       "       346.27930175, 346.27930175, 321.40909091, 346.27930175,\n",
       "       346.27930175, 346.27930175, 321.40909091, 346.27930175,\n",
       "       346.27930175, 346.27930175, 346.27930175, 346.27930175,\n",
       "       346.27930175, 346.27930175, 346.27930175, 346.27930175,\n",
       "       346.27930175, 321.40909091, 346.27930175, 346.27930175,\n",
       "       321.40909091, 321.40909091, 346.27930175, 321.40909091,\n",
       "       346.27930175, 346.27930175, 321.40909091, 346.27930175,\n",
       "       346.27930175, 346.27930175, 346.27930175, 321.40909091,\n",
       "       321.40909091, 346.27930175, 346.27930175, 346.27930175,\n",
       "       346.27930175, 346.27930175, 346.27930175, 346.27930175,\n",
       "       346.27930175, 321.40909091, 346.27930175, 346.27930175,\n",
       "       346.27930175, 321.40909091, 346.27930175, 346.27930175,\n",
       "       346.27930175, 346.27930175, 346.27930175, 346.27930175,\n",
       "       346.27930175, 346.27930175, 346.27930175, 346.27930175,\n",
       "       346.27930175, 321.40909091, 346.27930175, 346.27930175,\n",
       "       321.40909091, 346.27930175, 346.27930175, 346.27930175,\n",
       "       346.27930175, 346.27930175, 346.27930175, 346.27930175,\n",
       "       346.27930175, 321.40909091, 346.27930175, 346.27930175,\n",
       "       346.27930175, 346.27930175, 346.27930175, 346.27930175,\n",
       "       346.27930175, 346.27930175, 346.27930175, 346.27930175,\n",
       "       321.40909091, 346.27930175, 346.27930175, 346.27930175,\n",
       "       321.40909091, 346.27930175, 346.27930175, 346.27930175,\n",
       "       346.27930175, 346.27930175, 321.40909091, 346.27930175,\n",
       "       346.27930175, 346.27930175, 346.27930175, 346.27930175,\n",
       "       346.27930175, 346.27930175, 346.27930175, 346.27930175,\n",
       "       346.27930175, 346.27930175, 346.27930175, 346.27930175,\n",
       "       346.27930175, 346.27930175, 346.27930175, 346.27930175,\n",
       "       346.27930175, 346.27930175, 346.27930175, 346.27930175,\n",
       "       321.40909091, 321.40909091, 346.27930175, 346.27930175,\n",
       "       346.27930175, 346.27930175, 346.27930175, 346.27930175,\n",
       "       346.27930175, 346.27930175, 346.27930175, 321.40909091,\n",
       "       346.27930175, 346.27930175, 346.27930175, 346.27930175,\n",
       "       321.40909091, 346.27930175, 321.40909091, 346.27930175,\n",
       "       346.27930175, 321.40909091, 346.27930175, 346.27930175,\n",
       "       346.27930175, 346.27930175, 346.27930175, 321.40909091,\n",
       "       321.40909091, 346.27930175, 346.27930175, 346.27930175,\n",
       "       321.40909091, 346.27930175, 346.27930175, 346.27930175,\n",
       "       346.27930175, 346.27930175, 346.27930175, 346.27930175,\n",
       "       346.27930175, 346.27930175, 346.27930175, 346.27930175,\n",
       "       346.27930175, 346.27930175, 321.40909091, 346.27930175,\n",
       "       346.27930175, 346.27930175, 346.27930175, 346.27930175,\n",
       "       346.27930175, 346.27930175, 346.27930175, 321.40909091,\n",
       "       321.40909091, 346.27930175, 346.27930175, 346.27930175,\n",
       "       321.40909091, 346.27930175, 346.27930175, 346.27930175,\n",
       "       346.27930175, 346.27930175, 346.27930175, 346.27930175,\n",
       "       321.40909091, 346.27930175, 346.27930175, 346.27930175,\n",
       "       346.27930175, 346.27930175, 346.27930175, 346.27930175,\n",
       "       346.27930175, 346.27930175, 346.27930175, 321.40909091,\n",
       "       321.40909091, 321.40909091, 321.40909091, 346.27930175,\n",
       "       321.40909091, 346.27930175, 346.27930175, 346.27930175,\n",
       "       346.27930175, 346.27930175, 346.27930175, 321.40909091,\n",
       "       321.40909091, 346.27930175, 321.40909091, 346.27930175,\n",
       "       346.27930175, 346.27930175, 346.27930175, 346.27930175,\n",
       "       346.27930175, 346.27930175, 321.40909091, 321.40909091,\n",
       "       346.27930175, 346.27930175, 346.27930175, 346.27930175,\n",
       "       346.27930175, 321.40909091, 346.27930175, 346.27930175,\n",
       "       346.27930175, 346.27930175, 346.27930175, 346.27930175,\n",
       "       321.40909091, 346.27930175, 346.27930175, 346.27930175,\n",
       "       346.27930175, 346.27930175, 346.27930175, 346.27930175,\n",
       "       346.27930175, 346.27930175, 346.27930175, 346.27930175,\n",
       "       346.27930175, 346.27930175, 346.27930175, 346.27930175,\n",
       "       346.27930175, 346.27930175, 346.27930175, 346.27930175,\n",
       "       346.27930175, 346.27930175, 346.27930175, 321.40909091,\n",
       "       346.27930175, 346.27930175, 346.27930175, 321.40909091,\n",
       "       321.40909091, 346.27930175, 346.27930175, 346.27930175,\n",
       "       346.27930175, 346.27930175, 346.27930175, 346.27930175,\n",
       "       346.27930175, 321.40909091, 346.27930175, 321.40909091,\n",
       "       321.40909091, 346.27930175, 346.27930175, 346.27930175,\n",
       "       346.27930175, 346.27930175, 346.27930175, 321.40909091,\n",
       "       346.27930175, 321.40909091, 346.27930175, 346.27930175,\n",
       "       346.27930175, 346.27930175, 321.40909091, 346.27930175,\n",
       "       346.27930175, 346.27930175, 346.27930175, 346.27930175,\n",
       "       346.27930175, 346.27930175, 346.27930175, 346.27930175,\n",
       "       346.27930175, 346.27930175, 346.27930175, 346.27930175,\n",
       "       346.27930175, 346.27930175, 346.27930175, 346.27930175,\n",
       "       346.27930175, 321.40909091, 346.27930175, 346.27930175,\n",
       "       346.27930175, 346.27930175, 346.27930175, 321.40909091,\n",
       "       346.27930175, 346.27930175, 346.27930175, 346.27930175,\n",
       "       346.27930175, 346.27930175, 321.40909091, 346.27930175,\n",
       "       321.40909091, 346.27930175, 346.27930175, 346.27930175,\n",
       "       346.27930175, 346.27930175, 346.27930175, 321.40909091,\n",
       "       346.27930175, 346.27930175, 346.27930175, 346.27930175,\n",
       "       346.27930175, 346.27930175, 321.40909091, 346.27930175,\n",
       "       346.27930175, 346.27930175, 321.40909091, 346.27930175,\n",
       "       346.27930175, 346.27930175, 346.27930175, 346.27930175,\n",
       "       346.27930175, 346.27930175, 346.27930175, 321.40909091,\n",
       "       321.40909091, 321.40909091, 346.27930175, 120.        ,\n",
       "       346.27930175, 346.27930175, 346.27930175, 346.27930175,\n",
       "       346.27930175, 346.27930175, 346.27930175, 346.27930175,\n",
       "       346.27930175, 321.40909091, 321.40909091, 346.27930175,\n",
       "       346.27930175, 346.27930175, 346.27930175, 346.27930175,\n",
       "       346.27930175, 346.27930175, 346.27930175, 346.27930175,\n",
       "       346.27930175, 321.40909091, 346.27930175, 321.40909091,\n",
       "       346.27930175, 346.27930175, 346.27930175, 346.27930175,\n",
       "       346.27930175, 346.27930175, 346.27930175, 346.27930175,\n",
       "       346.27930175, 346.27930175, 321.40909091, 346.27930175,\n",
       "       346.27930175, 321.40909091, 321.40909091, 321.40909091,\n",
       "       321.40909091, 346.27930175, 321.40909091, 346.27930175,\n",
       "       346.27930175, 346.27930175, 346.27930175, 346.27930175,\n",
       "       346.27930175, 346.27930175, 346.27930175, 346.27930175,\n",
       "       321.40909091, 346.27930175, 346.27930175, 346.27930175,\n",
       "       346.27930175, 321.40909091, 346.27930175, 346.27930175,\n",
       "       346.27930175, 346.27930175, 346.27930175, 346.27930175,\n",
       "       346.27930175, 321.40909091, 346.27930175, 346.27930175,\n",
       "       321.40909091, 346.27930175, 346.27930175, 321.40909091,\n",
       "       321.40909091, 346.27930175, 346.27930175, 346.27930175,\n",
       "       346.27930175, 346.27930175, 346.27930175, 346.27930175,\n",
       "       346.27930175, 346.27930175, 346.27930175, 346.27930175,\n",
       "       346.27930175, 321.40909091, 346.27930175, 346.27930175,\n",
       "       346.27930175, 321.40909091, 346.27930175, 346.27930175,\n",
       "       346.27930175, 346.27930175, 346.27930175, 346.27930175,\n",
       "       346.27930175, 321.40909091, 120.        , 346.27930175,\n",
       "       346.27930175, 321.40909091, 346.27930175, 321.40909091,\n",
       "       346.27930175, 321.40909091, 346.27930175, 346.27930175,\n",
       "       346.27930175, 346.27930175, 346.27930175, 346.27930175,\n",
       "       346.27930175, 321.40909091, 346.27930175, 346.27930175,\n",
       "       346.27930175, 346.27930175, 346.27930175, 346.27930175,\n",
       "       346.27930175, 346.27930175, 346.27930175, 321.40909091,\n",
       "       346.27930175, 321.40909091, 346.27930175, 346.27930175,\n",
       "       346.27930175, 346.27930175, 346.27930175, 346.27930175,\n",
       "       346.27930175, 321.40909091, 346.27930175])"
      ]
     },
     "execution_count": 26,
     "metadata": {},
     "output_type": "execute_result"
    }
   ],
   "source": [
    "tr_pred"
   ]
  },
  {
   "cell_type": "code",
   "execution_count": 27,
   "id": "d9f2b825",
   "metadata": {},
   "outputs": [
    {
     "data": {
      "text/plain": [
       "array([346.27930175, 346.27930175, 346.27930175, 346.27930175,\n",
       "       346.27930175, 346.27930175, 321.40909091, 321.40909091,\n",
       "       346.27930175, 346.27930175, 346.27930175, 346.27930175,\n",
       "       346.27930175, 346.27930175, 346.27930175, 346.27930175,\n",
       "       346.27930175, 346.27930175, 346.27930175, 346.27930175,\n",
       "       346.27930175, 346.27930175, 321.40909091, 346.27930175,\n",
       "       346.27930175, 321.40909091, 321.40909091, 346.27930175,\n",
       "       346.27930175, 321.40909091, 346.27930175, 321.40909091,\n",
       "       346.27930175, 346.27930175, 346.27930175, 321.40909091,\n",
       "       346.27930175, 346.27930175, 346.27930175, 346.27930175,\n",
       "       346.27930175, 346.27930175, 346.27930175, 346.27930175,\n",
       "       346.27930175, 346.27930175, 346.27930175, 346.27930175,\n",
       "       346.27930175, 346.27930175, 346.27930175, 346.27930175,\n",
       "       346.27930175, 321.40909091, 346.27930175, 346.27930175,\n",
       "       346.27930175, 346.27930175, 346.27930175, 321.40909091,\n",
       "       346.27930175, 346.27930175, 346.27930175, 346.27930175,\n",
       "       321.40909091, 346.27930175, 346.27930175, 346.27930175,\n",
       "       346.27930175, 346.27930175, 346.27930175, 346.27930175,\n",
       "       346.27930175, 346.27930175, 346.27930175, 346.27930175,\n",
       "       346.27930175, 346.27930175, 321.40909091, 321.40909091,\n",
       "       346.27930175, 321.40909091, 346.27930175, 346.27930175,\n",
       "       321.40909091, 321.40909091, 321.40909091, 346.27930175,\n",
       "       120.        , 321.40909091, 346.27930175, 346.27930175,\n",
       "       120.        , 346.27930175, 120.        , 346.27930175,\n",
       "       321.40909091, 346.27930175, 346.27930175, 346.27930175,\n",
       "       346.27930175, 346.27930175, 321.40909091, 346.27930175,\n",
       "       346.27930175, 346.27930175, 346.27930175, 346.27930175,\n",
       "       346.27930175, 346.27930175, 346.27930175, 321.40909091,\n",
       "       346.27930175, 346.27930175, 346.27930175, 346.27930175,\n",
       "       321.40909091, 346.27930175, 346.27930175, 346.27930175,\n",
       "       346.27930175, 346.27930175, 346.27930175])"
      ]
     },
     "execution_count": 27,
     "metadata": {},
     "output_type": "execute_result"
    }
   ],
   "source": [
    "ts_pred"
   ]
  },
  {
   "cell_type": "markdown",
   "id": "84a0edc2",
   "metadata": {},
   "source": [
    "# Calculate mae,mse,r2_score"
   ]
  },
  {
   "cell_type": "code",
   "execution_count": 28,
   "id": "a1c160f3",
   "metadata": {},
   "outputs": [],
   "source": [
    "from sklearn.metrics import mean_absolute_error,mean_squared_error,r2_score\n",
    "tr_err = mean_absolute_error(ytrain,tr_pred)\n",
    "ts_err = mean_absolute_error(ytest,ts_pred)\n",
    "tr_sq_err = mean_squared_error(ytrain,tr_pred)\n",
    "ts_sq_err = mean_squared_error(ytest,ts_pred)\n",
    "tr_r2 = r2_score(ytrain,tr_pred)\n",
    "ts_r2 = r2_score(ytest,ts_pred)"
   ]
  },
  {
   "cell_type": "code",
   "execution_count": 30,
   "id": "419cd501",
   "metadata": {},
   "outputs": [
    {
     "name": "stdout",
     "output_type": "stream",
     "text": [
      "Training Data : \n",
      "MAE :  35.658571124493896\n",
      "MSE :  3997.6578226716124\n",
      "R2  :  0.06774143999495263\n"
     ]
    }
   ],
   "source": [
    "print(\"Training Data : \")\n",
    "print(\"MAE : \", tr_err)\n",
    "print(\"MSE : \", tr_sq_err)\n",
    "print(\"R2  : \", tr_r2)"
   ]
  },
  {
   "cell_type": "code",
   "execution_count": 31,
   "id": "32e4bab8",
   "metadata": {},
   "outputs": [
    {
     "name": "stdout",
     "output_type": "stream",
     "text": [
      "Testing Data : \n",
      "MAE :  37.895527257244915\n",
      "MSE :  4235.589714323874\n",
      "R2  :  -0.20675630354595764\n"
     ]
    }
   ],
   "source": [
    "print(\"Testing Data : \")\n",
    "print(\"MAE : \", ts_err)\n",
    "print(\"MSE : \", ts_sq_err)\n",
    "print(\"R2  : \", ts_r2)"
   ]
  },
  {
   "cell_type": "code",
   "execution_count": 32,
   "id": "fe4c70e8",
   "metadata": {},
   "outputs": [],
   "source": [
    "tr = []\n",
    "ts = []\n",
    "for i in range(2,20):\n",
    "    dtr = DecisionTreeRegressor(max_depth=i)\n",
    "    dtr.fit(xtrain,ytrain)\n",
    "    tr_pred = dtr.predict(xtrain)\n",
    "    ts_pred = dtr.predict(xtest)\n",
    "    tr_sq_err = mean_squared_error(ytrain,tr_pred)\n",
    "    ts_sq_err = mean_squared_error(ytest,ts_pred)\n",
    "    tr.append(tr_sq_err)\n",
    "    ts.append(ts_sq_err)"
   ]
  },
  {
   "cell_type": "code",
   "execution_count": 33,
   "id": "4e617bfd",
   "metadata": {},
   "outputs": [
    {
     "data": {
      "text/plain": [
       "[<matplotlib.lines.Line2D at 0x201ac427950>]"
      ]
     },
     "execution_count": 33,
     "metadata": {},
     "output_type": "execute_result"
    },
    {
     "data": {
      "image/png": "[encoded data removed]",
      "text/plain": [
       "<Figure size 640x480 with 1 Axes>"
      ]
     },
     "metadata": {},
     "output_type": "display_data"
    }
   ],
   "source": [
    "import matplotlib.pyplot as plt\n",
    "plt.plot(tr,c=\"Blue\")\n",
    "plt.plot(ts,c=\"Red\")"
   ]
  },
  {
   "cell_type": "code",
   "execution_count": 34,
   "id": "e4dba59b",
   "metadata": {},
   "outputs": [
    {
     "data": {
      "text/plain": [
       "[3997.6578226716124,\n",
       " 3700.1643855435223,\n",
       " 3534.9464343224563,\n",
       " 3123.305296411935,\n",
       " 2643.4960972265167,\n",
       " 2038.2275597056657,\n",
       " 1314.061473971105,\n",
       " 810.5335117835322,\n",
       " 307.25174499634784,\n",
       " 108.04965747083872,\n",
       " 4.435845213849287,\n",
       " 0.0,\n",
       " 0.0,\n",
       " 0.0,\n",
       " 0.0,\n",
       " 0.0,\n",
       " 0.0,\n",
       " 0.0]"
      ]
     },
     "execution_count": 34,
     "metadata": {},
     "output_type": "execute_result"
    }
   ],
   "source": [
    "tr"
   ]
  },
  {
   "cell_type": "code",
   "execution_count": 35,
   "id": "ef421322",
   "metadata": {},
   "outputs": [
    {
     "data": {
      "text/plain": [
       "[4235.589714323874,\n",
       " 4763.677392458306,\n",
       " 5272.213838105174,\n",
       " 5626.799246053469,\n",
       " 6305.106022286151,\n",
       " 6543.324344788826,\n",
       " 7100.648425184056,\n",
       " 6822.920270899471,\n",
       " 7777.486664332719,\n",
       " 6559.36673553719,\n",
       " 7592.8536585365855,\n",
       " 6802.536585365854,\n",
       " 6953.8536585365855,\n",
       " 6646.243902439024,\n",
       " 7263.512195121952,\n",
       " 6419.707317073171,\n",
       " 7457.8536585365855,\n",
       " 6893.8536585365855]"
      ]
     },
     "execution_count": 35,
     "metadata": {},
     "output_type": "execute_result"
    }
   ],
   "source": [
    "ts"
   ]
  },
  {
   "cell_type": "markdown",
   "id": "8f7318b6",
   "metadata": {},
   "source": [
    "# HyperParameters"
   ]
  },
  {
   "cell_type": "code",
   "execution_count": 36,
   "id": "e4868e86",
   "metadata": {},
   "outputs": [],
   "source": [
    "params = {'max_depth':[1,2,3,4],\n",
    "          'min_samples_leaf':list(range(1,16)),\n",
    "          'criterion':['absolute_error','squared_error']}"
   ]
  },
  {
   "cell_type": "markdown",
   "id": "e06aac1e",
   "metadata": {},
   "source": [
    "# Gridsearch cv model"
   ]
  },
  {
   "cell_type": "code",
   "execution_count": 37,
   "id": "4783486b",
   "metadata": {},
   "outputs": [
    {
     "data": {
      "text/html": [
       "<style>#sk-container-id-2 {color: black;}#sk-container-id-2 pre{padding: 0;}#sk-container-id-2 div.sk-toggleable {background-color: white;}#sk-container-id-2 label.sk-toggleable__label {cursor: pointer;display: block;width: 100%;margin-bottom: 0;padding: 0.3em;box-sizing: border-box;text-align: center;}#sk-container-id-2 label.sk-toggleable__label-arrow:before {content: \"▸\";float: left;margin-right: 0.25em;color: #696969;}#sk-container-id-2 label.sk-toggleable__label-arrow:hover:before {color: black;}#sk-container-id-2 div.sk-estimator:hover label.sk-toggleable__label-arrow:before {color: black;}#sk-container-id-2 div.sk-toggleable__content {max-height: 0;max-width: 0;overflow: hidden;text-align: left;background-color: #f0f8ff;}#sk-container-id-2 div.sk-toggleable__content pre {margin: 0.2em;color: black;border-radius: 0.25em;background-color: #f0f8ff;}#sk-container-id-2 input.sk-toggleable__control:checked~div.sk-toggleable__content {max-height: 200px;max-width: 100%;overflow: auto;}#sk-container-id-2 input.sk-toggleable__control:checked~label.sk-toggleable__label-arrow:before {content: \"▾\";}#sk-container-id-2 div.sk-estimator input.sk-toggleable__control:checked~label.sk-toggleable__label {background-color: #d4ebff;}#sk-container-id-2 div.sk-label input.sk-toggleable__control:checked~label.sk-toggleable__label {background-color: #d4ebff;}#sk-container-id-2 input.sk-hidden--visually {border: 0;clip: rect(1px 1px 1px 1px);clip: rect(1px, 1px, 1px, 1px);height: 1px;margin: -1px;overflow: hidden;padding: 0;position: absolute;width: 1px;}#sk-container-id-2 div.sk-estimator {font-family: monospace;background-color: #f0f8ff;border: 1px dotted black;border-radius: 0.25em;box-sizing: border-box;margin-bottom: 0.5em;}#sk-container-id-2 div.sk-estimator:hover {background-color: #d4ebff;}#sk-container-id-2 div.sk-parallel-item::after {content: \"\";width: 100%;border-bottom: 1px solid gray;flex-grow: 1;}#sk-container-id-2 div.sk-label:hover label.sk-toggleable__label {background-color: #d4ebff;}#sk-container-id-2 div.sk-serial::before {content: \"\";position: absolute;border-left: 1px solid gray;box-sizing: border-box;top: 0;bottom: 0;left: 50%;z-index: 0;}#sk-container-id-2 div.sk-serial {display: flex;flex-direction: column;align-items: center;background-color: white;padding-right: 0.2em;padding-left: 0.2em;position: relative;}#sk-container-id-2 div.sk-item {position: relative;z-index: 1;}#sk-container-id-2 div.sk-parallel {display: flex;align-items: stretch;justify-content: center;background-color: white;position: relative;}#sk-container-id-2 div.sk-item::before, #sk-container-id-2 div.sk-parallel-item::before {content: \"\";position: absolute;border-left: 1px solid gray;box-sizing: border-box;top: 0;bottom: 0;left: 50%;z-index: -1;}#sk-container-id-2 div.sk-parallel-item {display: flex;flex-direction: column;z-index: 1;position: relative;background-color: white;}#sk-container-id-2 div.sk-parallel-item:first-child::after {align-self: flex-end;width: 50%;}#sk-container-id-2 div.sk-parallel-item:last-child::after {align-self: flex-start;width: 50%;}#sk-container-id-2 div.sk-parallel-item:only-child::after {width: 0;}#sk-container-id-2 div.sk-dashed-wrapped {border: 1px dashed gray;margin: 0 0.4em 0.5em 0.4em;box-sizing: border-box;padding-bottom: 0.4em;background-color: white;}#sk-container-id-2 div.sk-label label {font-family: monospace;font-weight: bold;display: inline-block;line-height: 1.2em;}#sk-container-id-2 div.sk-label-container {text-align: center;}#sk-container-id-2 div.sk-container {/* jupyter's `normalize.less` sets `[hidden] { display: none; }` but bootstrap.min.css set `[hidden] { display: none !important; }` so we also need the `!important` here to be able to override the default hidden behavior on the sphinx rendered scikit-learn.org. See: https://github.com/scikit-learn/scikit-learn/issues/21755 */display: inline-block !important;position: relative;}#sk-container-id-2 div.sk-text-repr-fallback {display: none;}</style><div id=\"sk-container-id-2\" class=\"sk-top-container\"><div class=\"sk-text-repr-fallback\"><pre>GridSearchCV(cv=5, estimator=DecisionTreeRegressor(),\n",
       "             param_grid={&#x27;criterion&#x27;: [&#x27;absolute_error&#x27;, &#x27;squared_error&#x27;],\n",
       "                         &#x27;max_depth&#x27;: [1, 2, 3, 4],\n",
       "                         &#x27;min_samples_leaf&#x27;: [1, 2, 3, 4, 5, 6, 7, 8, 9, 10, 11,\n",
       "                                              12, 13, 14, 15]},\n",
       "             scoring=&#x27;r2&#x27;)</pre><b>In a Jupyter environment, please rerun this cell to show the HTML representation or trust the notebook. <br />On GitHub, the HTML representation is unable to render, please try loading this page with nbviewer.org.</b></div><div class=\"sk-container\" hidden><div class=\"sk-item sk-dashed-wrapped\"><div class=\"sk-label-container\"><div class=\"sk-label sk-toggleable\"><input class=\"sk-toggleable__control sk-hidden--visually\" id=\"sk-estimator-id-2\" type=\"checkbox\" ><label for=\"sk-estimator-id-2\" class=\"sk-toggleable__label sk-toggleable__label-arrow\">GridSearchCV</label><div class=\"sk-toggleable__content\"><pre>GridSearchCV(cv=5, estimator=DecisionTreeRegressor(),\n",
       "             param_grid={&#x27;criterion&#x27;: [&#x27;absolute_error&#x27;, &#x27;squared_error&#x27;],\n",
       "                         &#x27;max_depth&#x27;: [1, 2, 3, 4],\n",
       "                         &#x27;min_samples_leaf&#x27;: [1, 2, 3, 4, 5, 6, 7, 8, 9, 10, 11,\n",
       "                                              12, 13, 14, 15]},\n",
       "             scoring=&#x27;r2&#x27;)</pre></div></div></div><div class=\"sk-parallel\"><div class=\"sk-parallel-item\"><div class=\"sk-item\"><div class=\"sk-label-container\"><div class=\"sk-label sk-toggleable\"><input class=\"sk-toggleable__control sk-hidden--visually\" id=\"sk-estimator-id-3\" type=\"checkbox\" ><label for=\"sk-estimator-id-3\" class=\"sk-toggleable__label sk-toggleable__label-arrow\">estimator: DecisionTreeRegressor</label><div class=\"sk-toggleable__content\"><pre>DecisionTreeRegressor()</pre></div></div></div><div class=\"sk-serial\"><div class=\"sk-item\"><div class=\"sk-estimator sk-toggleable\"><input class=\"sk-toggleable__control sk-hidden--visually\" id=\"sk-estimator-id-4\" type=\"checkbox\" ><label for=\"sk-estimator-id-4\" class=\"sk-toggleable__label sk-toggleable__label-arrow\">DecisionTreeRegressor</label><div class=\"sk-toggleable__content\"><pre>DecisionTreeRegressor()</pre></div></div></div></div></div></div></div></div></div></div>"
      ],
      "text/plain": [
       "GridSearchCV(cv=5, estimator=DecisionTreeRegressor(),\n",
       "             param_grid={'criterion': ['absolute_error', 'squared_error'],\n",
       "                         'max_depth': [1, 2, 3, 4],\n",
       "                         'min_samples_leaf': [1, 2, 3, 4, 5, 6, 7, 8, 9, 10, 11,\n",
       "                                              12, 13, 14, 15]},\n",
       "             scoring='r2')"
      ]
     },
     "execution_count": 37,
     "metadata": {},
     "output_type": "execute_result"
    }
   ],
   "source": [
    "from sklearn.model_selection import GridSearchCV\n",
    "dtr2 = DecisionTreeRegressor()\n",
    "gscv = GridSearchCV(dtr2,param_grid=params,cv=5,scoring='r2')\n",
    "gscv.fit(xtrain,ytrain)"
   ]
  },
  {
   "cell_type": "code",
   "execution_count": 38,
   "id": "d42343de",
   "metadata": {},
   "outputs": [
    {
     "data": {
      "text/plain": [
       "0.03871729649975451"
      ]
     },
     "execution_count": 38,
     "metadata": {},
     "output_type": "execute_result"
    }
   ],
   "source": [
    "gscv.best_score_"
   ]
  },
  {
   "cell_type": "code",
   "execution_count": 39,
   "id": "cabff351",
   "metadata": {},
   "outputs": [
    {
     "data": {
      "text/plain": [
       "{'criterion': 'squared_error', 'max_depth': 1, 'min_samples_leaf': 1}"
      ]
     },
     "execution_count": 39,
     "metadata": {},
     "output_type": "execute_result"
    }
   ],
   "source": [
    "gscv.best_params_"
   ]
  },
  {
   "cell_type": "code",
   "execution_count": 40,
   "id": "1acdbfcc",
   "metadata": {},
   "outputs": [
    {
     "data": {
      "text/html": [
       "<style>#sk-container-id-3 {color: black;}#sk-container-id-3 pre{padding: 0;}#sk-container-id-3 div.sk-toggleable {background-color: white;}#sk-container-id-3 label.sk-toggleable__label {cursor: pointer;display: block;width: 100%;margin-bottom: 0;padding: 0.3em;box-sizing: border-box;text-align: center;}#sk-container-id-3 label.sk-toggleable__label-arrow:before {content: \"▸\";float: left;margin-right: 0.25em;color: #696969;}#sk-container-id-3 label.sk-toggleable__label-arrow:hover:before {color: black;}#sk-container-id-3 div.sk-estimator:hover label.sk-toggleable__label-arrow:before {color: black;}#sk-container-id-3 div.sk-toggleable__content {max-height: 0;max-width: 0;overflow: hidden;text-align: left;background-color: #f0f8ff;}#sk-container-id-3 div.sk-toggleable__content pre {margin: 0.2em;color: black;border-radius: 0.25em;background-color: #f0f8ff;}#sk-container-id-3 input.sk-toggleable__control:checked~div.sk-toggleable__content {max-height: 200px;max-width: 100%;overflow: auto;}#sk-container-id-3 input.sk-toggleable__control:checked~label.sk-toggleable__label-arrow:before {content: \"▾\";}#sk-container-id-3 div.sk-estimator input.sk-toggleable__control:checked~label.sk-toggleable__label {background-color: #d4ebff;}#sk-container-id-3 div.sk-label input.sk-toggleable__control:checked~label.sk-toggleable__label {background-color: #d4ebff;}#sk-container-id-3 input.sk-hidden--visually {border: 0;clip: rect(1px 1px 1px 1px);clip: rect(1px, 1px, 1px, 1px);height: 1px;margin: -1px;overflow: hidden;padding: 0;position: absolute;width: 1px;}#sk-container-id-3 div.sk-estimator {font-family: monospace;background-color: #f0f8ff;border: 1px dotted black;border-radius: 0.25em;box-sizing: border-box;margin-bottom: 0.5em;}#sk-container-id-3 div.sk-estimator:hover {background-color: #d4ebff;}#sk-container-id-3 div.sk-parallel-item::after {content: \"\";width: 100%;border-bottom: 1px solid gray;flex-grow: 1;}#sk-container-id-3 div.sk-label:hover label.sk-toggleable__label {background-color: #d4ebff;}#sk-container-id-3 div.sk-serial::before {content: \"\";position: absolute;border-left: 1px solid gray;box-sizing: border-box;top: 0;bottom: 0;left: 50%;z-index: 0;}#sk-container-id-3 div.sk-serial {display: flex;flex-direction: column;align-items: center;background-color: white;padding-right: 0.2em;padding-left: 0.2em;position: relative;}#sk-container-id-3 div.sk-item {position: relative;z-index: 1;}#sk-container-id-3 div.sk-parallel {display: flex;align-items: stretch;justify-content: center;background-color: white;position: relative;}#sk-container-id-3 div.sk-item::before, #sk-container-id-3 div.sk-parallel-item::before {content: \"\";position: absolute;border-left: 1px solid gray;box-sizing: border-box;top: 0;bottom: 0;left: 50%;z-index: -1;}#sk-container-id-3 div.sk-parallel-item {display: flex;flex-direction: column;z-index: 1;position: relative;background-color: white;}#sk-container-id-3 div.sk-parallel-item:first-child::after {align-self: flex-end;width: 50%;}#sk-container-id-3 div.sk-parallel-item:last-child::after {align-self: flex-start;width: 50%;}#sk-container-id-3 div.sk-parallel-item:only-child::after {width: 0;}#sk-container-id-3 div.sk-dashed-wrapped {border: 1px dashed gray;margin: 0 0.4em 0.5em 0.4em;box-sizing: border-box;padding-bottom: 0.4em;background-color: white;}#sk-container-id-3 div.sk-label label {font-family: monospace;font-weight: bold;display: inline-block;line-height: 1.2em;}#sk-container-id-3 div.sk-label-container {text-align: center;}#sk-container-id-3 div.sk-container {/* jupyter's `normalize.less` sets `[hidden] { display: none; }` but bootstrap.min.css set `[hidden] { display: none !important; }` so we also need the `!important` here to be able to override the default hidden behavior on the sphinx rendered scikit-learn.org. See: https://github.com/scikit-learn/scikit-learn/issues/21755 */display: inline-block !important;position: relative;}#sk-container-id-3 div.sk-text-repr-fallback {display: none;}</style><div id=\"sk-container-id-3\" class=\"sk-top-container\"><div class=\"sk-text-repr-fallback\"><pre>DecisionTreeRegressor(max_depth=1)</pre><b>In a Jupyter environment, please rerun this cell to show the HTML representation or trust the notebook. <br />On GitHub, the HTML representation is unable to render, please try loading this page with nbviewer.org.</b></div><div class=\"sk-container\" hidden><div class=\"sk-item\"><div class=\"sk-estimator sk-toggleable\"><input class=\"sk-toggleable__control sk-hidden--visually\" id=\"sk-estimator-id-5\" type=\"checkbox\" checked><label for=\"sk-estimator-id-5\" class=\"sk-toggleable__label sk-toggleable__label-arrow\">DecisionTreeRegressor</label><div class=\"sk-toggleable__content\"><pre>DecisionTreeRegressor(max_depth=1)</pre></div></div></div></div></div>"
      ],
      "text/plain": [
       "DecisionTreeRegressor(max_depth=1)"
      ]
     },
     "execution_count": 40,
     "metadata": {},
     "output_type": "execute_result"
    }
   ],
   "source": [
    "gscv.best_estimator_"
   ]
  },
  {
   "cell_type": "code",
   "execution_count": 41,
   "id": "80b6e42e",
   "metadata": {},
   "outputs": [],
   "source": [
    "tr_pred = gscv.predict(xtrain)\n",
    "ts_pred = gscv.predict(xtest)"
   ]
  },
  {
   "cell_type": "code",
   "execution_count": 42,
   "id": "511b9697",
   "metadata": {},
   "outputs": [],
   "source": [
    "tr_err = mean_absolute_error(ytrain,tr_pred)\n",
    "ts_err = mean_absolute_error(ytest,ts_pred)\n",
    "tr_sq_err = mean_squared_error(ytrain,tr_pred)\n",
    "ts_sq_err = mean_squared_error(ytest,ts_pred)\n",
    "tr_r2 = r2_score(ytrain,tr_pred)\n",
    "ts_r2 = r2_score(ytest,ts_pred)"
   ]
  },
  {
   "cell_type": "code",
   "execution_count": 43,
   "id": "4dc5d9b7",
   "metadata": {},
   "outputs": [
    {
     "name": "stdout",
     "output_type": "stream",
     "text": [
      "Training Data : \n",
      "MAE :  36.36909774717928\n",
      "MSE :  4088.5644671572977\n",
      "R2  :  0.0465419023550655\n"
     ]
    }
   ],
   "source": [
    "print(\"Training Data : \")\n",
    "print(\"MAE : \", tr_err)\n",
    "print(\"MSE : \", tr_sq_err)\n",
    "print(\"R2  : \", tr_r2)"
   ]
  },
  {
   "cell_type": "code",
   "execution_count": 44,
   "id": "06438a29",
   "metadata": {},
   "outputs": [
    {
     "name": "stdout",
     "output_type": "stream",
     "text": [
      "Testing Data : \n",
      "MAE :  37.27517581924284\n",
      "MSE :  4062.160001248475\n",
      "R2  :  -0.157344671732768\n"
     ]
    }
   ],
   "source": [
    "print(\"Testing Data : \")\n",
    "print(\"MAE : \", ts_err)\n",
    "print(\"MSE : \", ts_sq_err)\n",
    "print(\"R2  : \", ts_r2)"
   ]
  },
  {
   "cell_type": "markdown",
   "id": "aa429938",
   "metadata": {},
   "source": [
    "# Random forest"
   ]
  },
  {
   "cell_type": "code",
   "execution_count": 45,
   "id": "8faeb43f",
   "metadata": {},
   "outputs": [],
   "source": [
    "from sklearn.ensemble import RandomForestRegressor\n",
    "rfr = RandomForestRegressor(n_estimators=4)\n",
    "model = rfr.fit(xtrain,ytrain)\n",
    "tr_pred = model.predict(xtrain)\n",
    "ts_pred = model.predict(xtest)\n",
    "tr_err = mean_absolute_error(ytrain,tr_pred)\n",
    "ts_err = mean_absolute_error(ytest,ts_pred)\n",
    "tr_sq_err = mean_squared_error(ytrain,tr_pred)\n",
    "ts_sq_err = mean_squared_error(ytest,ts_pred)\n",
    "tr_r2 = r2_score(ytrain,tr_pred)\n",
    "ts_r2 = r2_score(ytest,ts_pred)"
   ]
  },
  {
   "cell_type": "code",
   "execution_count": 46,
   "id": "05a176e4",
   "metadata": {},
   "outputs": [
    {
     "name": "stdout",
     "output_type": "stream",
     "text": [
      "Training Data : \n",
      "MAE :  16.179226069246436\n",
      "MSE :  1259.010183299389\n",
      "R2  :  0.7063973274906288\n"
     ]
    }
   ],
   "source": [
    "print(\"Training Data : \")\n",
    "print(\"MAE : \", tr_err)\n",
    "print(\"MSE : \", tr_sq_err)\n",
    "print(\"R2  : \", tr_r2)"
   ]
  },
  {
   "cell_type": "code",
   "execution_count": 47,
   "id": "7f7dca2d",
   "metadata": {},
   "outputs": [
    {
     "name": "stdout",
     "output_type": "stream",
     "text": [
      "Testing Data : \n",
      "MAE :  42.97560975609756\n",
      "MSE :  4975.975609756098\n",
      "R2  :  -0.41769867677626404\n"
     ]
    }
   ],
   "source": [
    "print(\"Testing Data : \")\n",
    "print(\"MAE : \", ts_err)\n",
    "print(\"MSE : \", ts_sq_err)\n",
    "print(\"R2  : \", ts_r2)"
   ]
  },
  {
   "cell_type": "markdown",
   "id": "1fc0e7a2",
   "metadata": {},
   "source": [
    "# Adaboost"
   ]
  },
  {
   "cell_type": "code",
   "execution_count": 48,
   "id": "855c3b41",
   "metadata": {},
   "outputs": [],
   "source": [
    "from sklearn.ensemble import AdaBoostRegressor\n",
    "dtr = DecisionTreeRegressor()\n",
    "abr = AdaBoostRegressor(dtr,n_estimators=60)\n",
    "abr.fit(xtrain,ytrain)\n",
    "tr_pred = model.predict(xtrain)\n",
    "ts_pred = model.predict(xtest)\n",
    "tr_err = mean_absolute_error(ytrain,tr_pred)\n",
    "ts_err = mean_absolute_error(ytest,ts_pred)\n",
    "tr_sq_err = mean_squared_error(ytrain,tr_pred)\n",
    "ts_sq_err = mean_squared_error(ytest,ts_pred)\n",
    "tr_r2 = r2_score(ytrain,tr_pred)\n",
    "ts_r2 = r2_score(ytest,ts_pred)"
   ]
  },
  {
   "cell_type": "code",
   "execution_count": 49,
   "id": "7a466644",
   "metadata": {},
   "outputs": [
    {
     "name": "stdout",
     "output_type": "stream",
     "text": [
      "Training Data : \n",
      "MAE :  16.179226069246436\n",
      "MSE :  1259.010183299389\n",
      "R2  :  0.7063973274906288\n"
     ]
    }
   ],
   "source": [
    "print(\"Training Data : \")\n",
    "print(\"MAE : \", tr_err)\n",
    "print(\"MSE : \", tr_sq_err)\n",
    "print(\"R2  : \", tr_r2)"
   ]
  },
  {
   "cell_type": "code",
   "execution_count": 50,
   "id": "0be37043",
   "metadata": {},
   "outputs": [
    {
     "name": "stdout",
     "output_type": "stream",
     "text": [
      "Testing Data : \n",
      "MAE :  42.97560975609756\n",
      "MSE :  4975.975609756098\n",
      "R2  :  -0.41769867677626404\n"
     ]
    }
   ],
   "source": [
    "print(\"Testing Data : \")\n",
    "print(\"MAE : \", ts_err)\n",
    "print(\"MSE : \", ts_sq_err)\n",
    "print(\"R2  : \", ts_r2)"
   ]
  },
  {
   "cell_type": "markdown",
   "id": "207c20e4",
   "metadata": {},
   "source": [
    "# Nearest neighbors"
   ]
  },
  {
   "cell_type": "code",
   "execution_count": 51,
   "id": "ba98ca90",
   "metadata": {},
   "outputs": [],
   "source": [
    "from sklearn.neighbors import KNeighborsRegressor\n",
    "knr = KNeighborsRegressor(n_neighbors=4)\n",
    "knr.fit(xtrain,ytrain)\n",
    "tr_pred = knr.predict(xtrain)\n",
    "ts_pred = knr.predict(xtest)\n",
    "tr_err = mean_absolute_error(ytrain,tr_pred)\n",
    "ts_err = mean_absolute_error(ytest,ts_pred)\n",
    "tr_sq_err = mean_squared_error(ytrain,tr_pred)\n",
    "ts_sq_err = mean_squared_error(ytest,ts_pred)\n",
    "tr_r2 = r2_score(ytrain,tr_pred)\n",
    "ts_r2 = r2_score(ytest,ts_pred)"
   ]
  },
  {
   "cell_type": "code",
   "execution_count": 52,
   "id": "23476ba9",
   "metadata": {},
   "outputs": [
    {
     "name": "stdout",
     "output_type": "stream",
     "text": [
      "Training Data : \n",
      "MAE :  30.161914460285132\n",
      "MSE :  3006.8752545824846\n",
      "R2  :  0.29879311354403904\n"
     ]
    }
   ],
   "source": [
    "print(\"Training Data : \")\n",
    "print(\"MAE : \", tr_err)\n",
    "print(\"MSE : \", tr_sq_err)\n",
    "print(\"R2  : \", tr_r2)"
   ]
  },
  {
   "cell_type": "code",
   "execution_count": 53,
   "id": "ea856f6a",
   "metadata": {},
   "outputs": [
    {
     "name": "stdout",
     "output_type": "stream",
     "text": [
      "Testing Data : \n",
      "MAE :  37.390243902439025\n",
      "MSE :  4181.085365853659\n",
      "R2  :  -0.19122754119566054\n"
     ]
    }
   ],
   "source": [
    "print(\"Testing Data : \")\n",
    "print(\"MAE : \", ts_err)\n",
    "print(\"MSE : \", ts_sq_err)\n",
    "print(\"R2  : \", ts_r2)"
   ]
  },
  {
   "cell_type": "markdown",
   "id": "5fba75c8",
   "metadata": {},
   "source": [
    "# Creating test data ready for predictions"
   ]
  },
  {
   "cell_type": "code",
   "execution_count": 54,
   "id": "ac1203bd",
   "metadata": {},
   "outputs": [
    {
     "data": {
      "text/html": [
       "<div>\n",
       "<style scoped>\n",
       "    .dataframe tbody tr th:only-of-type {\n",
       "        vertical-align: middle;\n",
       "    }\n",
       "\n",
       "    .dataframe tbody tr th {\n",
       "        vertical-align: top;\n",
       "    }\n",
       "\n",
       "    .dataframe thead th {\n",
       "        text-align: right;\n",
       "    }\n",
       "</style>\n",
       "<table border=\"1\" class=\"dataframe\">\n",
       "  <thead>\n",
       "    <tr style=\"text-align: right;\">\n",
       "      <th></th>\n",
       "      <th>Loan_ID</th>\n",
       "      <th>Gender</th>\n",
       "      <th>Married</th>\n",
       "      <th>Dependents</th>\n",
       "      <th>Education</th>\n",
       "      <th>Self_Employed</th>\n",
       "      <th>ApplicantIncome</th>\n",
       "      <th>CoapplicantIncome</th>\n",
       "      <th>LoanAmount</th>\n",
       "      <th>Loan_Amount_Term</th>\n",
       "      <th>Credit_History</th>\n",
       "      <th>Property_Area</th>\n",
       "    </tr>\n",
       "  </thead>\n",
       "  <tbody>\n",
       "    <tr>\n",
       "      <th>0</th>\n",
       "      <td>LP001015</td>\n",
       "      <td>Male</td>\n",
       "      <td>Yes</td>\n",
       "      <td>0</td>\n",
       "      <td>Graduate</td>\n",
       "      <td>No</td>\n",
       "      <td>5720</td>\n",
       "      <td>0</td>\n",
       "      <td>110.0</td>\n",
       "      <td>360.0</td>\n",
       "      <td>1.000000</td>\n",
       "      <td>Urban</td>\n",
       "    </tr>\n",
       "    <tr>\n",
       "      <th>1</th>\n",
       "      <td>LP001022</td>\n",
       "      <td>Male</td>\n",
       "      <td>Yes</td>\n",
       "      <td>1</td>\n",
       "      <td>Graduate</td>\n",
       "      <td>No</td>\n",
       "      <td>3076</td>\n",
       "      <td>1500</td>\n",
       "      <td>126.0</td>\n",
       "      <td>360.0</td>\n",
       "      <td>1.000000</td>\n",
       "      <td>Urban</td>\n",
       "    </tr>\n",
       "    <tr>\n",
       "      <th>2</th>\n",
       "      <td>LP001031</td>\n",
       "      <td>Male</td>\n",
       "      <td>Yes</td>\n",
       "      <td>2</td>\n",
       "      <td>Graduate</td>\n",
       "      <td>No</td>\n",
       "      <td>5000</td>\n",
       "      <td>1800</td>\n",
       "      <td>208.0</td>\n",
       "      <td>360.0</td>\n",
       "      <td>1.000000</td>\n",
       "      <td>Urban</td>\n",
       "    </tr>\n",
       "    <tr>\n",
       "      <th>3</th>\n",
       "      <td>LP001035</td>\n",
       "      <td>Male</td>\n",
       "      <td>Yes</td>\n",
       "      <td>2</td>\n",
       "      <td>Graduate</td>\n",
       "      <td>No</td>\n",
       "      <td>2340</td>\n",
       "      <td>2546</td>\n",
       "      <td>100.0</td>\n",
       "      <td>360.0</td>\n",
       "      <td>0.825444</td>\n",
       "      <td>Urban</td>\n",
       "    </tr>\n",
       "    <tr>\n",
       "      <th>4</th>\n",
       "      <td>LP001051</td>\n",
       "      <td>Male</td>\n",
       "      <td>No</td>\n",
       "      <td>0</td>\n",
       "      <td>Not Graduate</td>\n",
       "      <td>No</td>\n",
       "      <td>3276</td>\n",
       "      <td>0</td>\n",
       "      <td>78.0</td>\n",
       "      <td>360.0</td>\n",
       "      <td>1.000000</td>\n",
       "      <td>Urban</td>\n",
       "    </tr>\n",
       "  </tbody>\n",
       "</table>\n",
       "</div>"
      ],
      "text/plain": [
       "    Loan_ID Gender Married Dependents     Education Self_Employed  \\\n",
       "0  LP001015   Male     Yes          0      Graduate            No   \n",
       "1  LP001022   Male     Yes          1      Graduate            No   \n",
       "2  LP001031   Male     Yes          2      Graduate            No   \n",
       "3  LP001035   Male     Yes          2      Graduate            No   \n",
       "4  LP001051   Male      No          0  Not Graduate            No   \n",
       "\n",
       "   ApplicantIncome  CoapplicantIncome  LoanAmount  Loan_Amount_Term  \\\n",
       "0             5720                  0       110.0             360.0   \n",
       "1             3076               1500       126.0             360.0   \n",
       "2             5000               1800       208.0             360.0   \n",
       "3             2340               2546       100.0             360.0   \n",
       "4             3276                  0        78.0             360.0   \n",
       "\n",
       "   Credit_History Property_Area  \n",
       "0        1.000000         Urban  \n",
       "1        1.000000         Urban  \n",
       "2        1.000000         Urban  \n",
       "3        0.825444         Urban  \n",
       "4        1.000000         Urban  "
      ]
     },
     "execution_count": 54,
     "metadata": {},
     "output_type": "execute_result"
    }
   ],
   "source": [
    "B.head()"
   ]
  },
  {
   "cell_type": "code",
   "execution_count": 55,
   "id": "784a5e79",
   "metadata": {},
   "outputs": [],
   "source": [
    "test = B.drop(labels=[\"Loan_ID\"],axis=1)"
   ]
  },
  {
   "cell_type": "code",
   "execution_count": 56,
   "id": "7a907f29",
   "metadata": {},
   "outputs": [],
   "source": [
    "Xsamp = preprocessing(test)"
   ]
  },
  {
   "cell_type": "code",
   "execution_count": 57,
   "id": "fe067091",
   "metadata": {},
   "outputs": [
    {
     "data": {
      "text/html": [
       "<div>\n",
       "<style scoped>\n",
       "    .dataframe tbody tr th:only-of-type {\n",
       "        vertical-align: middle;\n",
       "    }\n",
       "\n",
       "    .dataframe tbody tr th {\n",
       "        vertical-align: top;\n",
       "    }\n",
       "\n",
       "    .dataframe thead th {\n",
       "        text-align: right;\n",
       "    }\n",
       "</style>\n",
       "<table border=\"1\" class=\"dataframe\">\n",
       "  <thead>\n",
       "    <tr style=\"text-align: right;\">\n",
       "      <th></th>\n",
       "      <th>ApplicantIncome</th>\n",
       "      <th>CoapplicantIncome</th>\n",
       "      <th>LoanAmount</th>\n",
       "      <th>Loan_Amount_Term</th>\n",
       "      <th>Credit_History</th>\n",
       "      <th>Gender_Female</th>\n",
       "      <th>Gender_Male</th>\n",
       "      <th>Married_No</th>\n",
       "      <th>Married_Yes</th>\n",
       "      <th>Dependents_0</th>\n",
       "      <th>Dependents_1</th>\n",
       "      <th>Dependents_2</th>\n",
       "      <th>Dependents_3+</th>\n",
       "      <th>Education_Graduate</th>\n",
       "      <th>Education_Not Graduate</th>\n",
       "      <th>Self_Employed_No</th>\n",
       "      <th>Self_Employed_Yes</th>\n",
       "      <th>Property_Area_Rural</th>\n",
       "      <th>Property_Area_Semiurban</th>\n",
       "      <th>Property_Area_Urban</th>\n",
       "    </tr>\n",
       "  </thead>\n",
       "  <tbody>\n",
       "    <tr>\n",
       "      <th>0</th>\n",
       "      <td>0.186461</td>\n",
       "      <td>-0.673335</td>\n",
       "      <td>-0.429368</td>\n",
       "      <td>0.270603</td>\n",
       "      <td>0.47918</td>\n",
       "      <td>0</td>\n",
       "      <td>1</td>\n",
       "      <td>0</td>\n",
       "      <td>1</td>\n",
       "      <td>1</td>\n",
       "      <td>0</td>\n",
       "      <td>0</td>\n",
       "      <td>0</td>\n",
       "      <td>1</td>\n",
       "      <td>0</td>\n",
       "      <td>1</td>\n",
       "      <td>0</td>\n",
       "      <td>0</td>\n",
       "      <td>0</td>\n",
       "      <td>1</td>\n",
       "    </tr>\n",
       "    <tr>\n",
       "      <th>1</th>\n",
       "      <td>-0.352692</td>\n",
       "      <td>-0.029848</td>\n",
       "      <td>-0.166482</td>\n",
       "      <td>0.270603</td>\n",
       "      <td>0.47918</td>\n",
       "      <td>0</td>\n",
       "      <td>1</td>\n",
       "      <td>0</td>\n",
       "      <td>1</td>\n",
       "      <td>0</td>\n",
       "      <td>1</td>\n",
       "      <td>0</td>\n",
       "      <td>0</td>\n",
       "      <td>1</td>\n",
       "      <td>0</td>\n",
       "      <td>1</td>\n",
       "      <td>0</td>\n",
       "      <td>0</td>\n",
       "      <td>0</td>\n",
       "      <td>1</td>\n",
       "    </tr>\n",
       "    <tr>\n",
       "      <th>2</th>\n",
       "      <td>0.039641</td>\n",
       "      <td>0.098849</td>\n",
       "      <td>1.180807</td>\n",
       "      <td>0.270603</td>\n",
       "      <td>0.47918</td>\n",
       "      <td>0</td>\n",
       "      <td>1</td>\n",
       "      <td>0</td>\n",
       "      <td>1</td>\n",
       "      <td>0</td>\n",
       "      <td>0</td>\n",
       "      <td>1</td>\n",
       "      <td>0</td>\n",
       "      <td>1</td>\n",
       "      <td>0</td>\n",
       "      <td>1</td>\n",
       "      <td>0</td>\n",
       "      <td>0</td>\n",
       "      <td>0</td>\n",
       "      <td>1</td>\n",
       "    </tr>\n",
       "    <tr>\n",
       "      <th>3</th>\n",
       "      <td>-0.502774</td>\n",
       "      <td>0.418877</td>\n",
       "      <td>-0.593671</td>\n",
       "      <td>0.270603</td>\n",
       "      <td>0.00000</td>\n",
       "      <td>0</td>\n",
       "      <td>1</td>\n",
       "      <td>0</td>\n",
       "      <td>1</td>\n",
       "      <td>0</td>\n",
       "      <td>0</td>\n",
       "      <td>1</td>\n",
       "      <td>0</td>\n",
       "      <td>1</td>\n",
       "      <td>0</td>\n",
       "      <td>1</td>\n",
       "      <td>0</td>\n",
       "      <td>0</td>\n",
       "      <td>0</td>\n",
       "      <td>1</td>\n",
       "    </tr>\n",
       "    <tr>\n",
       "      <th>4</th>\n",
       "      <td>-0.311909</td>\n",
       "      <td>-0.673335</td>\n",
       "      <td>-0.955139</td>\n",
       "      <td>0.270603</td>\n",
       "      <td>0.47918</td>\n",
       "      <td>0</td>\n",
       "      <td>1</td>\n",
       "      <td>1</td>\n",
       "      <td>0</td>\n",
       "      <td>1</td>\n",
       "      <td>0</td>\n",
       "      <td>0</td>\n",
       "      <td>0</td>\n",
       "      <td>0</td>\n",
       "      <td>1</td>\n",
       "      <td>1</td>\n",
       "      <td>0</td>\n",
       "      <td>0</td>\n",
       "      <td>0</td>\n",
       "      <td>1</td>\n",
       "    </tr>\n",
       "  </tbody>\n",
       "</table>\n",
       "</div>"
      ],
      "text/plain": [
       "   ApplicantIncome  CoapplicantIncome  LoanAmount  Loan_Amount_Term  \\\n",
       "0         0.186461          -0.673335   -0.429368          0.270603   \n",
       "1        -0.352692          -0.029848   -0.166482          0.270603   \n",
       "2         0.039641           0.098849    1.180807          0.270603   \n",
       "3        -0.502774           0.418877   -0.593671          0.270603   \n",
       "4        -0.311909          -0.673335   -0.955139          0.270603   \n",
       "\n",
       "   Credit_History  Gender_Female  Gender_Male  Married_No  Married_Yes  \\\n",
       "0         0.47918              0            1           0            1   \n",
       "1         0.47918              0            1           0            1   \n",
       "2         0.47918              0            1           0            1   \n",
       "3         0.00000              0            1           0            1   \n",
       "4         0.47918              0            1           1            0   \n",
       "\n",
       "   Dependents_0  Dependents_1  Dependents_2  Dependents_3+  \\\n",
       "0             1             0             0              0   \n",
       "1             0             1             0              0   \n",
       "2             0             0             1              0   \n",
       "3             0             0             1              0   \n",
       "4             1             0             0              0   \n",
       "\n",
       "   Education_Graduate  Education_Not Graduate  Self_Employed_No  \\\n",
       "0                   1                       0                 1   \n",
       "1                   1                       0                 1   \n",
       "2                   1                       0                 1   \n",
       "3                   1                       0                 1   \n",
       "4                   0                       1                 1   \n",
       "\n",
       "   Self_Employed_Yes  Property_Area_Rural  Property_Area_Semiurban  \\\n",
       "0                  0                    0                        0   \n",
       "1                  0                    0                        0   \n",
       "2                  0                    0                        0   \n",
       "3                  0                    0                        0   \n",
       "4                  0                    0                        0   \n",
       "\n",
       "   Property_Area_Urban  \n",
       "0                    1  \n",
       "1                    1  \n",
       "2                    1  \n",
       "3                    1  \n",
       "4                    1  "
      ]
     },
     "execution_count": 57,
     "metadata": {},
     "output_type": "execute_result"
    }
   ],
   "source": [
    "Xsamp.head()"
   ]
  },
  {
   "cell_type": "code",
   "execution_count": 58,
   "id": "fd52d88e",
   "metadata": {},
   "outputs": [],
   "source": [
    "Xsamp['Exterior2nd_Other']=0"
   ]
  },
  {
   "cell_type": "code",
   "execution_count": 59,
   "id": "9fbf1569",
   "metadata": {},
   "outputs": [],
   "source": [
    "final_data_for_pred = Xsamp[list(xtrain.columns)]"
   ]
  },
  {
   "cell_type": "code",
   "execution_count": 60,
   "id": "a13cd2b1",
   "metadata": {},
   "outputs": [],
   "source": [
    "pred = gscv.predict(final_data_for_pred)"
   ]
  },
  {
   "cell_type": "code",
   "execution_count": 61,
   "id": "228f0a4a",
   "metadata": {},
   "outputs": [
    {
     "data": {
      "text/plain": [
       "array([341.80368098, 341.80368098, 341.80368098, 341.80368098,\n",
       "       341.80368098, 341.80368098, 341.80368098, 341.80368098,\n",
       "       341.80368098, 341.80368098, 341.80368098, 341.80368098,\n",
       "       120.        , 341.80368098, 341.80368098, 341.80368098,\n",
       "       341.80368098, 341.80368098, 341.80368098, 341.80368098,\n",
       "       120.        , 120.        , 341.80368098, 341.80368098,\n",
       "       341.80368098, 341.80368098, 341.80368098, 341.80368098,\n",
       "       341.80368098, 341.80368098, 341.80368098, 341.80368098,\n",
       "       341.80368098, 341.80368098, 341.80368098, 341.80368098,\n",
       "       341.80368098, 341.80368098, 341.80368098, 341.80368098,\n",
       "       341.80368098, 341.80368098, 341.80368098, 341.80368098,\n",
       "       341.80368098, 341.80368098, 341.80368098, 341.80368098,\n",
       "       341.80368098, 341.80368098, 341.80368098, 341.80368098,\n",
       "       341.80368098, 120.        , 341.80368098, 341.80368098,\n",
       "       341.80368098, 341.80368098, 341.80368098, 341.80368098,\n",
       "       341.80368098, 341.80368098, 341.80368098, 341.80368098,\n",
       "       341.80368098, 341.80368098, 341.80368098, 341.80368098,\n",
       "       341.80368098, 341.80368098, 341.80368098, 341.80368098,\n",
       "       341.80368098, 341.80368098, 341.80368098, 341.80368098,\n",
       "       341.80368098, 341.80368098, 341.80368098, 341.80368098,\n",
       "       341.80368098, 341.80368098, 341.80368098, 341.80368098,\n",
       "       341.80368098, 341.80368098, 341.80368098, 341.80368098,\n",
       "       341.80368098, 341.80368098, 341.80368098, 341.80368098,\n",
       "       341.80368098, 341.80368098, 341.80368098, 341.80368098,\n",
       "       341.80368098, 341.80368098, 341.80368098, 341.80368098,\n",
       "       341.80368098, 341.80368098, 341.80368098, 341.80368098,\n",
       "       341.80368098, 341.80368098, 341.80368098, 341.80368098,\n",
       "       341.80368098, 341.80368098, 341.80368098, 341.80368098,\n",
       "       341.80368098, 341.80368098, 341.80368098, 341.80368098,\n",
       "       341.80368098, 341.80368098, 341.80368098, 341.80368098,\n",
       "       341.80368098, 341.80368098, 341.80368098, 341.80368098,\n",
       "       341.80368098, 341.80368098, 341.80368098, 341.80368098,\n",
       "       341.80368098, 341.80368098, 341.80368098, 341.80368098,\n",
       "       341.80368098, 341.80368098, 341.80368098, 341.80368098,\n",
       "       341.80368098, 341.80368098, 341.80368098, 341.80368098,\n",
       "       341.80368098, 341.80368098, 341.80368098, 341.80368098,\n",
       "       341.80368098, 341.80368098, 341.80368098, 341.80368098,\n",
       "       341.80368098, 341.80368098, 341.80368098, 341.80368098,\n",
       "       341.80368098, 341.80368098, 341.80368098, 341.80368098,\n",
       "       341.80368098, 341.80368098, 341.80368098, 341.80368098,\n",
       "       341.80368098, 341.80368098, 341.80368098, 341.80368098,\n",
       "       341.80368098, 341.80368098, 341.80368098, 341.80368098,\n",
       "       341.80368098, 341.80368098, 341.80368098, 341.80368098,\n",
       "       341.80368098, 341.80368098, 341.80368098, 341.80368098,\n",
       "       341.80368098, 341.80368098, 341.80368098, 341.80368098,\n",
       "       341.80368098, 341.80368098, 341.80368098, 341.80368098,\n",
       "       341.80368098, 341.80368098, 341.80368098, 341.80368098,\n",
       "       341.80368098, 341.80368098, 341.80368098, 341.80368098,\n",
       "       341.80368098, 341.80368098, 341.80368098, 341.80368098,\n",
       "       341.80368098, 341.80368098, 341.80368098, 341.80368098,\n",
       "       341.80368098, 341.80368098, 341.80368098, 341.80368098,\n",
       "       341.80368098, 341.80368098, 341.80368098, 341.80368098,\n",
       "       341.80368098, 341.80368098, 341.80368098, 341.80368098,\n",
       "       341.80368098, 341.80368098, 341.80368098, 341.80368098,\n",
       "       341.80368098, 341.80368098, 341.80368098, 341.80368098,\n",
       "       341.80368098, 341.80368098, 341.80368098, 341.80368098,\n",
       "       341.80368098, 341.80368098, 341.80368098, 341.80368098,\n",
       "       341.80368098, 341.80368098, 341.80368098, 341.80368098,\n",
       "       120.        , 341.80368098, 341.80368098, 341.80368098,\n",
       "       341.80368098, 341.80368098, 341.80368098, 341.80368098,\n",
       "       341.80368098, 341.80368098, 341.80368098, 341.80368098,\n",
       "       341.80368098, 341.80368098, 341.80368098, 341.80368098,\n",
       "       341.80368098, 120.        , 341.80368098, 341.80368098,\n",
       "       341.80368098, 341.80368098, 341.80368098, 341.80368098,\n",
       "       341.80368098, 341.80368098, 341.80368098, 341.80368098,\n",
       "       341.80368098, 341.80368098, 341.80368098, 341.80368098,\n",
       "       341.80368098, 341.80368098, 341.80368098, 341.80368098,\n",
       "       120.        , 341.80368098, 341.80368098, 341.80368098,\n",
       "       341.80368098, 341.80368098, 341.80368098, 341.80368098,\n",
       "       341.80368098, 341.80368098, 341.80368098, 341.80368098,\n",
       "       341.80368098, 341.80368098, 341.80368098, 341.80368098,\n",
       "       341.80368098, 341.80368098, 341.80368098, 341.80368098,\n",
       "       341.80368098, 341.80368098, 341.80368098, 341.80368098,\n",
       "       341.80368098, 341.80368098, 341.80368098, 341.80368098,\n",
       "       341.80368098, 341.80368098, 341.80368098, 341.80368098,\n",
       "       341.80368098, 341.80368098, 341.80368098, 341.80368098,\n",
       "       341.80368098, 341.80368098, 341.80368098, 341.80368098,\n",
       "       341.80368098, 341.80368098, 341.80368098, 341.80368098,\n",
       "       341.80368098, 341.80368098, 341.80368098, 341.80368098,\n",
       "       341.80368098, 341.80368098, 341.80368098, 341.80368098,\n",
       "       341.80368098, 341.80368098, 341.80368098, 120.        ,\n",
       "       341.80368098, 341.80368098, 341.80368098, 341.80368098,\n",
       "       341.80368098, 341.80368098, 341.80368098, 341.80368098,\n",
       "       341.80368098, 341.80368098, 120.        , 120.        ,\n",
       "       341.80368098, 341.80368098, 341.80368098, 341.80368098,\n",
       "       341.80368098, 341.80368098, 341.80368098, 341.80368098,\n",
       "       341.80368098, 341.80368098, 341.80368098, 341.80368098,\n",
       "       341.80368098, 341.80368098, 341.80368098, 341.80368098,\n",
       "       341.80368098, 341.80368098, 341.80368098, 341.80368098,\n",
       "       341.80368098, 341.80368098, 341.80368098, 341.80368098,\n",
       "       341.80368098, 341.80368098, 341.80368098, 341.80368098,\n",
       "       341.80368098, 341.80368098, 341.80368098])"
      ]
     },
     "execution_count": 61,
     "metadata": {},
     "output_type": "execute_result"
    }
   ],
   "source": [
    "pred"
   ]
  },
  {
   "cell_type": "code",
   "execution_count": 62,
   "id": "fd9d4c0d",
   "metadata": {},
   "outputs": [],
   "source": [
    "Q = B[[\"Loan_Amount_Term\"]]"
   ]
  },
  {
   "cell_type": "code",
   "execution_count": 63,
   "id": "b756376c",
   "metadata": {},
   "outputs": [],
   "source": [
    "Q['LoanAmount']=pred"
   ]
  },
  {
   "cell_type": "code",
   "execution_count": 64,
   "id": "ede68f67",
   "metadata": {},
   "outputs": [
    {
     "data": {
      "text/html": [
       "<div>\n",
       "<style scoped>\n",
       "    .dataframe tbody tr th:only-of-type {\n",
       "        vertical-align: middle;\n",
       "    }\n",
       "\n",
       "    .dataframe tbody tr th {\n",
       "        vertical-align: top;\n",
       "    }\n",
       "\n",
       "    .dataframe thead th {\n",
       "        text-align: right;\n",
       "    }\n",
       "</style>\n",
       "<table border=\"1\" class=\"dataframe\">\n",
       "  <thead>\n",
       "    <tr style=\"text-align: right;\">\n",
       "      <th></th>\n",
       "      <th>Loan_Amount_Term</th>\n",
       "      <th>LoanAmount</th>\n",
       "    </tr>\n",
       "  </thead>\n",
       "  <tbody>\n",
       "    <tr>\n",
       "      <th>0</th>\n",
       "      <td>360.0</td>\n",
       "      <td>341.803681</td>\n",
       "    </tr>\n",
       "    <tr>\n",
       "      <th>1</th>\n",
       "      <td>360.0</td>\n",
       "      <td>341.803681</td>\n",
       "    </tr>\n",
       "    <tr>\n",
       "      <th>2</th>\n",
       "      <td>360.0</td>\n",
       "      <td>341.803681</td>\n",
       "    </tr>\n",
       "    <tr>\n",
       "      <th>3</th>\n",
       "      <td>360.0</td>\n",
       "      <td>341.803681</td>\n",
       "    </tr>\n",
       "    <tr>\n",
       "      <th>4</th>\n",
       "      <td>360.0</td>\n",
       "      <td>341.803681</td>\n",
       "    </tr>\n",
       "    <tr>\n",
       "      <th>...</th>\n",
       "      <td>...</td>\n",
       "      <td>...</td>\n",
       "    </tr>\n",
       "    <tr>\n",
       "      <th>362</th>\n",
       "      <td>360.0</td>\n",
       "      <td>341.803681</td>\n",
       "    </tr>\n",
       "    <tr>\n",
       "      <th>363</th>\n",
       "      <td>360.0</td>\n",
       "      <td>341.803681</td>\n",
       "    </tr>\n",
       "    <tr>\n",
       "      <th>364</th>\n",
       "      <td>360.0</td>\n",
       "      <td>341.803681</td>\n",
       "    </tr>\n",
       "    <tr>\n",
       "      <th>365</th>\n",
       "      <td>360.0</td>\n",
       "      <td>341.803681</td>\n",
       "    </tr>\n",
       "    <tr>\n",
       "      <th>366</th>\n",
       "      <td>180.0</td>\n",
       "      <td>341.803681</td>\n",
       "    </tr>\n",
       "  </tbody>\n",
       "</table>\n",
       "<p>367 rows × 2 columns</p>\n",
       "</div>"
      ],
      "text/plain": [
       "     Loan_Amount_Term  LoanAmount\n",
       "0               360.0  341.803681\n",
       "1               360.0  341.803681\n",
       "2               360.0  341.803681\n",
       "3               360.0  341.803681\n",
       "4               360.0  341.803681\n",
       "..                ...         ...\n",
       "362             360.0  341.803681\n",
       "363             360.0  341.803681\n",
       "364             360.0  341.803681\n",
       "365             360.0  341.803681\n",
       "366             180.0  341.803681\n",
       "\n",
       "[367 rows x 2 columns]"
      ]
     },
     "execution_count": 64,
     "metadata": {},
     "output_type": "execute_result"
    }
   ],
   "source": [
    "Q"
   ]
  },
  {
   "cell_type": "code",
   "execution_count": null,
   "id": "8c436a4d",
   "metadata": {},
   "outputs": [],
   "source": []
  }
 ],
 "metadata": {
  "kernelspec": {
   "display_name": "Python 3 (ipykernel)",
   "language": "python",
   "name": "python3"
  },
  "language_info": {
   "codemirror_mode": {
    "name": "ipython",
    "version": 3
   },
   "file_extension": ".py",
   "mimetype": "text/x-python",
   "name": "python",
   "nbconvert_exporter": "python",
   "pygments_lexer": "ipython3",
   "version": "3.11.4"
  }
 },
 "nbformat": 4,
 "nbformat_minor": 5
}
